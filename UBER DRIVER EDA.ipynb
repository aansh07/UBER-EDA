{
 "cells": [
  {
   "cell_type": "code",
   "execution_count": 1,
   "id": "b9af8409-b7c3-4ca8-9cb2-0ccdc334ec86",
   "metadata": {},
   "outputs": [],
   "source": [
    "import pandas  as pd\n",
    "import numpy as np\n",
    "import matplotlib.pyplot as plt\n",
    "%matplotlib inlineG\n",
    "import seaborn as sns"
   ]
  },
  {
   "cell_type": "code",
   "execution_count": 2,
   "id": "d6aef0c9-6f62-4eeb-b134-c7a4e8ddfbbd",
   "metadata": {},
   "outputs": [],
   "source": [
    "df=pd.read_csv(\"uber.csv\")"
   ]
  },
  {
   "cell_type": "code",
   "execution_count": 3,
   "id": "11542a49-6ce9-408a-b1df-b986fd1920e6",
   "metadata": {},
   "outputs": [
    {
     "data": {
      "text/html": [
       "<div>\n",
       "<style scoped>\n",
       "    .dataframe tbody tr th:only-of-type {\n",
       "        vertical-align: middle;\n",
       "    }\n",
       "\n",
       "    .dataframe tbody tr th {\n",
       "        vertical-align: top;\n",
       "    }\n",
       "\n",
       "    .dataframe thead th {\n",
       "        text-align: right;\n",
       "    }\n",
       "</style>\n",
       "<table border=\"1\" class=\"dataframe\">\n",
       "  <thead>\n",
       "    <tr style=\"text-align: right;\">\n",
       "      <th></th>\n",
       "      <th>ID</th>\n",
       "      <th>key</th>\n",
       "      <th>fare_amount</th>\n",
       "      <th>pickup_datetime</th>\n",
       "      <th>pickup_longitude</th>\n",
       "      <th>pickup_latitude</th>\n",
       "      <th>dropoff_longitude</th>\n",
       "      <th>dropoff_latitude</th>\n",
       "      <th>passenger_count</th>\n",
       "    </tr>\n",
       "  </thead>\n",
       "  <tbody>\n",
       "    <tr>\n",
       "      <th>0</th>\n",
       "      <td>24238194</td>\n",
       "      <td>52:06.0</td>\n",
       "      <td>7.5</td>\n",
       "      <td>2015-05-07 19:52:06 UTC</td>\n",
       "      <td>-73.999817</td>\n",
       "      <td>40.738354</td>\n",
       "      <td>-73.999512</td>\n",
       "      <td>40.723217</td>\n",
       "      <td>1</td>\n",
       "    </tr>\n",
       "    <tr>\n",
       "      <th>1</th>\n",
       "      <td>27835199</td>\n",
       "      <td>04:56.0</td>\n",
       "      <td>7.7</td>\n",
       "      <td>2009-07-17 20:04:56 UTC</td>\n",
       "      <td>-73.994355</td>\n",
       "      <td>40.728225</td>\n",
       "      <td>-73.994710</td>\n",
       "      <td>40.750325</td>\n",
       "      <td>1</td>\n",
       "    </tr>\n",
       "    <tr>\n",
       "      <th>2</th>\n",
       "      <td>44984355</td>\n",
       "      <td>45:00.0</td>\n",
       "      <td>12.9</td>\n",
       "      <td>2009-08-24 21:45:00 UTC</td>\n",
       "      <td>-74.005043</td>\n",
       "      <td>40.740770</td>\n",
       "      <td>-73.962565</td>\n",
       "      <td>40.772647</td>\n",
       "      <td>1</td>\n",
       "    </tr>\n",
       "    <tr>\n",
       "      <th>3</th>\n",
       "      <td>25894730</td>\n",
       "      <td>22:21.0</td>\n",
       "      <td>5.3</td>\n",
       "      <td>2009-06-26 08:22:21 UTC</td>\n",
       "      <td>-73.976124</td>\n",
       "      <td>40.790844</td>\n",
       "      <td>-73.965316</td>\n",
       "      <td>40.803349</td>\n",
       "      <td>3</td>\n",
       "    </tr>\n",
       "    <tr>\n",
       "      <th>4</th>\n",
       "      <td>17610152</td>\n",
       "      <td>47:00.0</td>\n",
       "      <td>16.0</td>\n",
       "      <td>2014-08-28 17:47:00 UTC</td>\n",
       "      <td>-73.925023</td>\n",
       "      <td>40.744085</td>\n",
       "      <td>-73.973082</td>\n",
       "      <td>40.761247</td>\n",
       "      <td>5</td>\n",
       "    </tr>\n",
       "  </tbody>\n",
       "</table>\n",
       "</div>"
      ],
      "text/plain": [
       "         ID      key  fare_amount          pickup_datetime  pickup_longitude  \\\n",
       "0  24238194  52:06.0          7.5  2015-05-07 19:52:06 UTC        -73.999817   \n",
       "1  27835199  04:56.0          7.7  2009-07-17 20:04:56 UTC        -73.994355   \n",
       "2  44984355  45:00.0         12.9  2009-08-24 21:45:00 UTC        -74.005043   \n",
       "3  25894730  22:21.0          5.3  2009-06-26 08:22:21 UTC        -73.976124   \n",
       "4  17610152  47:00.0         16.0  2014-08-28 17:47:00 UTC        -73.925023   \n",
       "\n",
       "   pickup_latitude  dropoff_longitude  dropoff_latitude  passenger_count  \n",
       "0        40.738354         -73.999512         40.723217                1  \n",
       "1        40.728225         -73.994710         40.750325                1  \n",
       "2        40.740770         -73.962565         40.772647                1  \n",
       "3        40.790844         -73.965316         40.803349                3  \n",
       "4        40.744085         -73.973082         40.761247                5  "
      ]
     },
     "execution_count": 3,
     "metadata": {},
     "output_type": "execute_result"
    }
   ],
   "source": [
    "df.head()"
   ]
  },
  {
   "cell_type": "code",
   "execution_count": 4,
   "id": "af2b7fd0-7f0e-4840-9ca3-cf62dbaa2572",
   "metadata": {},
   "outputs": [
    {
     "data": {
      "text/html": [
       "<div>\n",
       "<style scoped>\n",
       "    .dataframe tbody tr th:only-of-type {\n",
       "        vertical-align: middle;\n",
       "    }\n",
       "\n",
       "    .dataframe tbody tr th {\n",
       "        vertical-align: top;\n",
       "    }\n",
       "\n",
       "    .dataframe thead th {\n",
       "        text-align: right;\n",
       "    }\n",
       "</style>\n",
       "<table border=\"1\" class=\"dataframe\">\n",
       "  <thead>\n",
       "    <tr style=\"text-align: right;\">\n",
       "      <th></th>\n",
       "      <th>ID</th>\n",
       "      <th>fare_amount</th>\n",
       "      <th>pickup_longitude</th>\n",
       "      <th>pickup_latitude</th>\n",
       "      <th>dropoff_longitude</th>\n",
       "      <th>dropoff_latitude</th>\n",
       "      <th>passenger_count</th>\n",
       "    </tr>\n",
       "  </thead>\n",
       "  <tbody>\n",
       "    <tr>\n",
       "      <th>count</th>\n",
       "      <td>2.000000e+05</td>\n",
       "      <td>200000.000000</td>\n",
       "      <td>200000.000000</td>\n",
       "      <td>200000.000000</td>\n",
       "      <td>199999.000000</td>\n",
       "      <td>199999.000000</td>\n",
       "      <td>200000.000000</td>\n",
       "    </tr>\n",
       "    <tr>\n",
       "      <th>mean</th>\n",
       "      <td>2.771250e+07</td>\n",
       "      <td>11.359955</td>\n",
       "      <td>-72.527638</td>\n",
       "      <td>39.935885</td>\n",
       "      <td>-72.525292</td>\n",
       "      <td>39.923890</td>\n",
       "      <td>1.684535</td>\n",
       "    </tr>\n",
       "    <tr>\n",
       "      <th>std</th>\n",
       "      <td>1.601382e+07</td>\n",
       "      <td>9.901776</td>\n",
       "      <td>11.437787</td>\n",
       "      <td>7.720539</td>\n",
       "      <td>13.117408</td>\n",
       "      <td>6.794829</td>\n",
       "      <td>1.385997</td>\n",
       "    </tr>\n",
       "    <tr>\n",
       "      <th>min</th>\n",
       "      <td>1.000000e+00</td>\n",
       "      <td>-52.000000</td>\n",
       "      <td>-1340.648410</td>\n",
       "      <td>-74.015515</td>\n",
       "      <td>-3356.666300</td>\n",
       "      <td>-881.985513</td>\n",
       "      <td>0.000000</td>\n",
       "    </tr>\n",
       "    <tr>\n",
       "      <th>25%</th>\n",
       "      <td>1.382535e+07</td>\n",
       "      <td>6.000000</td>\n",
       "      <td>-73.992065</td>\n",
       "      <td>40.734796</td>\n",
       "      <td>-73.991407</td>\n",
       "      <td>40.733823</td>\n",
       "      <td>1.000000</td>\n",
       "    </tr>\n",
       "    <tr>\n",
       "      <th>50%</th>\n",
       "      <td>2.774550e+07</td>\n",
       "      <td>8.500000</td>\n",
       "      <td>-73.981823</td>\n",
       "      <td>40.752592</td>\n",
       "      <td>-73.980093</td>\n",
       "      <td>40.753042</td>\n",
       "      <td>1.000000</td>\n",
       "    </tr>\n",
       "    <tr>\n",
       "      <th>75%</th>\n",
       "      <td>4.155530e+07</td>\n",
       "      <td>12.500000</td>\n",
       "      <td>-73.967153</td>\n",
       "      <td>40.767158</td>\n",
       "      <td>-73.963659</td>\n",
       "      <td>40.768001</td>\n",
       "      <td>2.000000</td>\n",
       "    </tr>\n",
       "    <tr>\n",
       "      <th>max</th>\n",
       "      <td>5.542357e+07</td>\n",
       "      <td>499.000000</td>\n",
       "      <td>57.418457</td>\n",
       "      <td>1644.421482</td>\n",
       "      <td>1153.572603</td>\n",
       "      <td>872.697628</td>\n",
       "      <td>208.000000</td>\n",
       "    </tr>\n",
       "  </tbody>\n",
       "</table>\n",
       "</div>"
      ],
      "text/plain": [
       "                 ID    fare_amount  pickup_longitude  pickup_latitude  \\\n",
       "count  2.000000e+05  200000.000000     200000.000000    200000.000000   \n",
       "mean   2.771250e+07      11.359955        -72.527638        39.935885   \n",
       "std    1.601382e+07       9.901776         11.437787         7.720539   \n",
       "min    1.000000e+00     -52.000000      -1340.648410       -74.015515   \n",
       "25%    1.382535e+07       6.000000        -73.992065        40.734796   \n",
       "50%    2.774550e+07       8.500000        -73.981823        40.752592   \n",
       "75%    4.155530e+07      12.500000        -73.967153        40.767158   \n",
       "max    5.542357e+07     499.000000         57.418457      1644.421482   \n",
       "\n",
       "       dropoff_longitude  dropoff_latitude  passenger_count  \n",
       "count      199999.000000     199999.000000    200000.000000  \n",
       "mean          -72.525292         39.923890         1.684535  \n",
       "std            13.117408          6.794829         1.385997  \n",
       "min         -3356.666300       -881.985513         0.000000  \n",
       "25%           -73.991407         40.733823         1.000000  \n",
       "50%           -73.980093         40.753042         1.000000  \n",
       "75%           -73.963659         40.768001         2.000000  \n",
       "max          1153.572603        872.697628       208.000000  "
      ]
     },
     "execution_count": 4,
     "metadata": {},
     "output_type": "execute_result"
    }
   ],
   "source": [
    "df.describe()"
   ]
  },
  {
   "cell_type": "code",
   "execution_count": 5,
   "id": "b508e81b-c9d6-40aa-b67d-81a537b474d7",
   "metadata": {},
   "outputs": [
    {
     "name": "stdout",
     "output_type": "stream",
     "text": [
      "<class 'pandas.core.frame.DataFrame'>\n",
      "RangeIndex: 200000 entries, 0 to 199999\n",
      "Data columns (total 9 columns):\n",
      " #   Column             Non-Null Count   Dtype  \n",
      "---  ------             --------------   -----  \n",
      " 0   ID                 200000 non-null  int64  \n",
      " 1   key                200000 non-null  object \n",
      " 2   fare_amount        200000 non-null  float64\n",
      " 3   pickup_datetime    200000 non-null  object \n",
      " 4   pickup_longitude   200000 non-null  float64\n",
      " 5   pickup_latitude    200000 non-null  float64\n",
      " 6   dropoff_longitude  199999 non-null  float64\n",
      " 7   dropoff_latitude   199999 non-null  float64\n",
      " 8   passenger_count    200000 non-null  int64  \n",
      "dtypes: float64(5), int64(2), object(2)\n",
      "memory usage: 13.7+ MB\n"
     ]
    }
   ],
   "source": [
    "df.info()"
   ]
  },
  {
   "cell_type": "code",
   "execution_count": 6,
   "id": "a8094aeb-3573-4613-9a84-5d186f814947",
   "metadata": {},
   "outputs": [
    {
     "data": {
      "text/plain": [
       "ID                   0\n",
       "key                  0\n",
       "fare_amount          0\n",
       "pickup_datetime      0\n",
       "pickup_longitude     0\n",
       "pickup_latitude      0\n",
       "dropoff_longitude    1\n",
       "dropoff_latitude     1\n",
       "passenger_count      0\n",
       "dtype: int64"
      ]
     },
     "execution_count": 6,
     "metadata": {},
     "output_type": "execute_result"
    }
   ],
   "source": [
    "df.isnull().sum()"
   ]
  },
  {
   "cell_type": "markdown",
   "id": "802645c1-1b8d-4b75-9b86-42f02822cf82",
   "metadata": {},
   "source": [
    "HANDLING OF NULL VALUES."
   ]
  },
  {
   "cell_type": "code",
   "execution_count": 7,
   "id": "3027411d-2a76-444c-b853-b7341c38c588",
   "metadata": {},
   "outputs": [],
   "source": [
    "df[\"dropoff_longitude\"]=df[\"dropoff_longitude\"].fillna(df[\"dropoff_longitude\"].mode()[0])\n"
   ]
  },
  {
   "cell_type": "code",
   "execution_count": 8,
   "id": "b5e98adf-c61a-4c4c-a156-b9a13602114f",
   "metadata": {},
   "outputs": [],
   "source": [
    "df[\"dropoff_latitude\"]=df[\"dropoff_latitude\"].fillna(df[\"dropoff_latitude\"].mode()[0])"
   ]
  },
  {
   "cell_type": "code",
   "execution_count": 9,
   "id": "3ce315ca-0faf-4b56-b47e-2a89d7e68757",
   "metadata": {},
   "outputs": [
    {
     "name": "stdout",
     "output_type": "stream",
     "text": [
      "<class 'pandas.core.frame.DataFrame'>\n",
      "RangeIndex: 200000 entries, 0 to 199999\n",
      "Data columns (total 9 columns):\n",
      " #   Column             Non-Null Count   Dtype  \n",
      "---  ------             --------------   -----  \n",
      " 0   ID                 200000 non-null  int64  \n",
      " 1   key                200000 non-null  object \n",
      " 2   fare_amount        200000 non-null  float64\n",
      " 3   pickup_datetime    200000 non-null  object \n",
      " 4   pickup_longitude   200000 non-null  float64\n",
      " 5   pickup_latitude    200000 non-null  float64\n",
      " 6   dropoff_longitude  200000 non-null  float64\n",
      " 7   dropoff_latitude   200000 non-null  float64\n",
      " 8   passenger_count    200000 non-null  int64  \n",
      "dtypes: float64(5), int64(2), object(2)\n",
      "memory usage: 13.7+ MB\n"
     ]
    }
   ],
   "source": [
    "df.info()"
   ]
  },
  {
   "cell_type": "code",
   "execution_count": 10,
   "id": "e91a8cb2-8371-4dde-919c-d1db634a4a5a",
   "metadata": {},
   "outputs": [
    {
     "data": {
      "text/html": [
       "<div>\n",
       "<style scoped>\n",
       "    .dataframe tbody tr th:only-of-type {\n",
       "        vertical-align: middle;\n",
       "    }\n",
       "\n",
       "    .dataframe tbody tr th {\n",
       "        vertical-align: top;\n",
       "    }\n",
       "\n",
       "    .dataframe thead th {\n",
       "        text-align: right;\n",
       "    }\n",
       "</style>\n",
       "<table border=\"1\" class=\"dataframe\">\n",
       "  <thead>\n",
       "    <tr style=\"text-align: right;\">\n",
       "      <th></th>\n",
       "      <th>ID</th>\n",
       "      <th>key</th>\n",
       "      <th>fare_amount</th>\n",
       "      <th>pickup_datetime</th>\n",
       "      <th>pickup_longitude</th>\n",
       "      <th>pickup_latitude</th>\n",
       "      <th>dropoff_longitude</th>\n",
       "      <th>dropoff_latitude</th>\n",
       "      <th>passenger_count</th>\n",
       "    </tr>\n",
       "  </thead>\n",
       "  <tbody>\n",
       "    <tr>\n",
       "      <th>0</th>\n",
       "      <td>24238194</td>\n",
       "      <td>52:06.0</td>\n",
       "      <td>7.5</td>\n",
       "      <td>2015-05-07 19:52:06 UTC</td>\n",
       "      <td>-73.999817</td>\n",
       "      <td>40.738354</td>\n",
       "      <td>-73.999512</td>\n",
       "      <td>40.723217</td>\n",
       "      <td>1</td>\n",
       "    </tr>\n",
       "    <tr>\n",
       "      <th>1</th>\n",
       "      <td>27835199</td>\n",
       "      <td>04:56.0</td>\n",
       "      <td>7.7</td>\n",
       "      <td>2009-07-17 20:04:56 UTC</td>\n",
       "      <td>-73.994355</td>\n",
       "      <td>40.728225</td>\n",
       "      <td>-73.994710</td>\n",
       "      <td>40.750325</td>\n",
       "      <td>1</td>\n",
       "    </tr>\n",
       "  </tbody>\n",
       "</table>\n",
       "</div>"
      ],
      "text/plain": [
       "         ID      key  fare_amount          pickup_datetime  pickup_longitude  \\\n",
       "0  24238194  52:06.0          7.5  2015-05-07 19:52:06 UTC        -73.999817   \n",
       "1  27835199  04:56.0          7.7  2009-07-17 20:04:56 UTC        -73.994355   \n",
       "\n",
       "   pickup_latitude  dropoff_longitude  dropoff_latitude  passenger_count  \n",
       "0        40.738354         -73.999512         40.723217                1  \n",
       "1        40.728225         -73.994710         40.750325                1  "
      ]
     },
     "execution_count": 10,
     "metadata": {},
     "output_type": "execute_result"
    }
   ],
   "source": [
    "df.head(2)"
   ]
  },
  {
   "cell_type": "markdown",
   "id": "fc1349b0-1669-488d-9848-cdecea28e759",
   "metadata": {},
   "source": [
    "COLUMN TYPES:->\n",
    "1.NUMERICAL=ID,key,pickup_datetime,pickup_longitude,pickup_latitude,dropoff_longitude,passenger_count\t"
   ]
  },
  {
   "cell_type": "code",
   "execution_count": 11,
   "id": "9895bbf2-dd43-446e-b5f6-ad5ecd992140",
   "metadata": {},
   "outputs": [
    {
     "data": {
      "text/plain": [
       "count    2.000000e+05\n",
       "mean     2.771250e+07\n",
       "std      1.601382e+07\n",
       "min      1.000000e+00\n",
       "25%      1.382535e+07\n",
       "50%      2.774550e+07\n",
       "75%      4.155530e+07\n",
       "max      5.542357e+07\n",
       "Name: ID, dtype: float64"
      ]
     },
     "execution_count": 11,
     "metadata": {},
     "output_type": "execute_result"
    }
   ],
   "source": [
    "df[\"ID\"].describe()"
   ]
  },
  {
   "cell_type": "markdown",
   "id": "9d6cbc37-907c-49ea-b275-70c679d131b2",
   "metadata": {},
   "source": [
    "#UNIVARITE ANALYSIS."
   ]
  },
  {
   "cell_type": "code",
   "execution_count": 12,
   "id": "c98f1356-b09e-4816-a72c-831d3dc80032",
   "metadata": {},
   "outputs": [
    {
     "data": {
      "text/plain": [
       "<Axes: >"
      ]
     },
     "execution_count": 12,
     "metadata": {},
     "output_type": "execute_result"
    },
    {
     "data": {
      "image/png": "[encoded data removed]",
      "text/plain": [
       "<Figure size 640x480 with 1 Axes>"
      ]
     },
     "metadata": {},
     "output_type": "display_data"
    }
   ],
   "source": [
    "df[\"ID\"].plot(kind='box')"
   ]
  },
  {
   "cell_type": "code",
   "execution_count": 13,
   "id": "0301c088-40c2-4039-80e6-f02f7bdca66f",
   "metadata": {},
   "outputs": [
    {
     "data": {
      "text/plain": [
       "<Axes: xlabel='ID', ylabel='Count'>"
      ]
     },
     "execution_count": 13,
     "metadata": {},
     "output_type": "execute_result"
    },
    {
     "data": {
      "image/png": "[encoded data removed]",
      "text/plain": [
       "<Figure size 640x480 with 1 Axes>"
      ]
     },
     "metadata": {},
     "output_type": "display_data"
    }
   ],
   "source": [
    "sns.histplot(df[\"ID\"],kde=True,bins=10)"
   ]
  },
  {
   "cell_type": "code",
   "execution_count": 14,
   "id": "fe6b0994-6964-41bf-86e5-feca707ec719",
   "metadata": {},
   "outputs": [
    {
     "data": {
      "text/plain": [
       "-0.0018279657406472453"
      ]
     },
     "execution_count": 14,
     "metadata": {},
     "output_type": "execute_result"
    }
   ],
   "source": [
    "df['ID'].skew()"
   ]
  },
  {
   "cell_type": "markdown",
   "id": "bfed441d-4283-480c-99f2-0cec9329939b",
   "metadata": {},
   "source": [
    "      Conclusion:->\n",
    "       1.NO null values or outliers\n",
    "       2 .It is negativley skewed."
   ]
  },
  {
   "cell_type": "markdown",
   "id": "73474ccd-84ed-479a-b625-1a5b3b1f9a9d",
   "metadata": {},
   "source": [
    "                       Q1.What is the total number of trips in the dataset?"
   ]
  },
  {
   "cell_type": "code",
   "execution_count": 15,
   "id": "a4b4af60-1cd5-46ed-937a-b7114dfa9394",
   "metadata": {},
   "outputs": [
    {
     "data": {
      "text/html": [
       "<div>\n",
       "<style scoped>\n",
       "    .dataframe tbody tr th:only-of-type {\n",
       "        vertical-align: middle;\n",
       "    }\n",
       "\n",
       "    .dataframe tbody tr th {\n",
       "        vertical-align: top;\n",
       "    }\n",
       "\n",
       "    .dataframe thead th {\n",
       "        text-align: right;\n",
       "    }\n",
       "</style>\n",
       "<table border=\"1\" class=\"dataframe\">\n",
       "  <thead>\n",
       "    <tr style=\"text-align: right;\">\n",
       "      <th></th>\n",
       "      <th>ID</th>\n",
       "      <th>key</th>\n",
       "      <th>fare_amount</th>\n",
       "      <th>pickup_datetime</th>\n",
       "      <th>pickup_longitude</th>\n",
       "      <th>pickup_latitude</th>\n",
       "      <th>dropoff_longitude</th>\n",
       "      <th>dropoff_latitude</th>\n",
       "      <th>passenger_count</th>\n",
       "    </tr>\n",
       "  </thead>\n",
       "  <tbody>\n",
       "    <tr>\n",
       "      <th>0</th>\n",
       "      <td>24238194</td>\n",
       "      <td>52:06.0</td>\n",
       "      <td>7.5</td>\n",
       "      <td>2015-05-07 19:52:06 UTC</td>\n",
       "      <td>-73.999817</td>\n",
       "      <td>40.738354</td>\n",
       "      <td>-73.999512</td>\n",
       "      <td>40.723217</td>\n",
       "      <td>1</td>\n",
       "    </tr>\n",
       "    <tr>\n",
       "      <th>1</th>\n",
       "      <td>27835199</td>\n",
       "      <td>04:56.0</td>\n",
       "      <td>7.7</td>\n",
       "      <td>2009-07-17 20:04:56 UTC</td>\n",
       "      <td>-73.994355</td>\n",
       "      <td>40.728225</td>\n",
       "      <td>-73.994710</td>\n",
       "      <td>40.750325</td>\n",
       "      <td>1</td>\n",
       "    </tr>\n",
       "  </tbody>\n",
       "</table>\n",
       "</div>"
      ],
      "text/plain": [
       "         ID      key  fare_amount          pickup_datetime  pickup_longitude  \\\n",
       "0  24238194  52:06.0          7.5  2015-05-07 19:52:06 UTC        -73.999817   \n",
       "1  27835199  04:56.0          7.7  2009-07-17 20:04:56 UTC        -73.994355   \n",
       "\n",
       "   pickup_latitude  dropoff_longitude  dropoff_latitude  passenger_count  \n",
       "0        40.738354         -73.999512         40.723217                1  \n",
       "1        40.728225         -73.994710         40.750325                1  "
      ]
     },
     "execution_count": 15,
     "metadata": {},
     "output_type": "execute_result"
    }
   ],
   "source": [
    "df.head(2)"
   ]
  },
  {
   "cell_type": "code",
   "execution_count": 16,
   "id": "b3c8cc5f-9cc6-4423-bfbc-d4ab596ff77a",
   "metadata": {},
   "outputs": [
    {
     "name": "stdout",
     "output_type": "stream",
     "text": [
      "THE TOTAL NUMBER OF TRIPS ARE  3600\n"
     ]
    }
   ],
   "source": [
    "print(\"THE TOTAL NUMBER OF TRIPS ARE \",len(df['key'].unique()))"
   ]
  },
  {
   "cell_type": "markdown",
   "id": "e1b34c1a-a2fd-4478-9810-08266415bd6f",
   "metadata": {},
   "source": [
    "                               #Time Range of Trips"
   ]
  },
  {
   "cell_type": "code",
   "execution_count": 17,
   "id": "197069a4-d437-45ac-980a-4b8b0ee024cd",
   "metadata": {},
   "outputs": [],
   "source": [
    "df[\"pickup_date\"]=df[\"pickup_datetime\"].str.split(\" \").str[0]\n",
    "df[\"pickup_time\"]=df[\"pickup_datetime\"].str.split(\" \").str[1]\n",
    "df[\"Time_Zone\"]=df[\"pickup_datetime\"].str.split(\" \").str[2]"
   ]
  },
  {
   "cell_type": "code",
   "execution_count": 18,
   "id": "4a121cb8-4c22-447a-b1cc-db8ab482357b",
   "metadata": {},
   "outputs": [
    {
     "name": "stdout",
     "output_type": "stream",
     "text": [
      "Time range of trips: 0         23:59:59\n",
      "1         23:59:59\n",
      "2         23:59:59\n",
      "3         23:59:59\n",
      "4         23:59:59\n",
      "            ...   \n",
      "199995    23:59:59\n",
      "199996    23:59:59\n",
      "199997    23:59:59\n",
      "199998    23:59:59\n",
      "199999    23:59:59\n",
      "Name: Max_Time_Range, Length: 200000, dtype: object to 0         00:00:00\n",
      "1         00:00:00\n",
      "2         00:00:00\n",
      "3         00:00:00\n",
      "4         00:00:00\n",
      "            ...   \n",
      "199995    00:00:00\n",
      "199996    00:00:00\n",
      "199997    00:00:00\n",
      "199998    00:00:00\n",
      "199999    00:00:00\n",
      "Name: Min_Time_Range, Length: 200000, dtype: object\n"
     ]
    }
   ],
   "source": [
    "df[\"Max_Time_Range\"]=df[\"pickup_time\"].max()\n",
    "df[\"Min_Time_Range\"]=df[\"pickup_time\"].min()\n",
    "print(\"Time range of trips:\", df[\"Max_Time_Range\"], \"to\", df[\"Min_Time_Range\"])"
   ]
  },
  {
   "cell_type": "code",
   "execution_count": 19,
   "id": "8a8b1069-5166-4965-b7a1-c3444a2b254c",
   "metadata": {},
   "outputs": [
    {
     "data": {
      "text/html": [
       "<div>\n",
       "<style scoped>\n",
       "    .dataframe tbody tr th:only-of-type {\n",
       "        vertical-align: middle;\n",
       "    }\n",
       "\n",
       "    .dataframe tbody tr th {\n",
       "        vertical-align: top;\n",
       "    }\n",
       "\n",
       "    .dataframe thead th {\n",
       "        text-align: right;\n",
       "    }\n",
       "</style>\n",
       "<table border=\"1\" class=\"dataframe\">\n",
       "  <thead>\n",
       "    <tr style=\"text-align: right;\">\n",
       "      <th></th>\n",
       "      <th>ID</th>\n",
       "      <th>key</th>\n",
       "      <th>fare_amount</th>\n",
       "      <th>pickup_datetime</th>\n",
       "      <th>pickup_longitude</th>\n",
       "      <th>pickup_latitude</th>\n",
       "      <th>dropoff_longitude</th>\n",
       "      <th>dropoff_latitude</th>\n",
       "      <th>passenger_count</th>\n",
       "      <th>pickup_date</th>\n",
       "      <th>pickup_time</th>\n",
       "      <th>Time_Zone</th>\n",
       "      <th>Max_Time_Range</th>\n",
       "      <th>Min_Time_Range</th>\n",
       "    </tr>\n",
       "  </thead>\n",
       "  <tbody>\n",
       "    <tr>\n",
       "      <th>0</th>\n",
       "      <td>24238194</td>\n",
       "      <td>52:06.0</td>\n",
       "      <td>7.5</td>\n",
       "      <td>2015-05-07 19:52:06 UTC</td>\n",
       "      <td>-73.999817</td>\n",
       "      <td>40.738354</td>\n",
       "      <td>-73.999512</td>\n",
       "      <td>40.723217</td>\n",
       "      <td>1</td>\n",
       "      <td>2015-05-07</td>\n",
       "      <td>19:52:06</td>\n",
       "      <td>UTC</td>\n",
       "      <td>23:59:59</td>\n",
       "      <td>00:00:00</td>\n",
       "    </tr>\n",
       "    <tr>\n",
       "      <th>1</th>\n",
       "      <td>27835199</td>\n",
       "      <td>04:56.0</td>\n",
       "      <td>7.7</td>\n",
       "      <td>2009-07-17 20:04:56 UTC</td>\n",
       "      <td>-73.994355</td>\n",
       "      <td>40.728225</td>\n",
       "      <td>-73.994710</td>\n",
       "      <td>40.750325</td>\n",
       "      <td>1</td>\n",
       "      <td>2009-07-17</td>\n",
       "      <td>20:04:56</td>\n",
       "      <td>UTC</td>\n",
       "      <td>23:59:59</td>\n",
       "      <td>00:00:00</td>\n",
       "    </tr>\n",
       "  </tbody>\n",
       "</table>\n",
       "</div>"
      ],
      "text/plain": [
       "         ID      key  fare_amount          pickup_datetime  pickup_longitude  \\\n",
       "0  24238194  52:06.0          7.5  2015-05-07 19:52:06 UTC        -73.999817   \n",
       "1  27835199  04:56.0          7.7  2009-07-17 20:04:56 UTC        -73.994355   \n",
       "\n",
       "   pickup_latitude  dropoff_longitude  dropoff_latitude  passenger_count  \\\n",
       "0        40.738354         -73.999512         40.723217                1   \n",
       "1        40.728225         -73.994710         40.750325                1   \n",
       "\n",
       "  pickup_date pickup_time Time_Zone Max_Time_Range Min_Time_Range  \n",
       "0  2015-05-07    19:52:06       UTC       23:59:59       00:00:00  \n",
       "1  2009-07-17    20:04:56       UTC       23:59:59       00:00:00  "
      ]
     },
     "execution_count": 19,
     "metadata": {},
     "output_type": "execute_result"
    }
   ],
   "source": [
    "df.head(2)"
   ]
  },
  {
   "cell_type": "code",
   "execution_count": 20,
   "id": "d19185a1-4454-461d-a441-828647da105a",
   "metadata": {},
   "outputs": [
    {
     "data": {
      "text/plain": [
       "count    200000.000000\n",
       "mean         11.359955\n",
       "std           9.901776\n",
       "min         -52.000000\n",
       "25%           6.000000\n",
       "50%           8.500000\n",
       "75%          12.500000\n",
       "max         499.000000\n",
       "Name: fare_amount, dtype: float64"
      ]
     },
     "execution_count": 20,
     "metadata": {},
     "output_type": "execute_result"
    }
   ],
   "source": [
    "df[\"fare_amount\"].describe()"
   ]
  },
  {
   "cell_type": "code",
   "execution_count": 21,
   "id": "a599e6a8-678a-49a4-beec-e8418cc4d233",
   "metadata": {},
   "outputs": [],
   "source": [
    "df[\"fare_amount\"]=df[\"fare_amount\"].astype(int)"
   ]
  },
  {
   "cell_type": "code",
   "execution_count": 22,
   "id": "7dd938d8-9cba-4f93-ac49-104b52263784",
   "metadata": {},
   "outputs": [
    {
     "data": {
      "text/plain": [
       "<Axes: ylabel='fare_amount'>"
      ]
     },
     "execution_count": 22,
     "metadata": {},
     "output_type": "execute_result"
    },
    {
     "data": {
      "image/png": "[encoded data removed]",
      "text/plain": [
       "<Figure size 640x480 with 1 Axes>"
      ]
     },
     "metadata": {},
     "output_type": "display_data"
    }
   ],
   "source": [
    "sns.boxplot(df[\"fare_amount\"])"
   ]
  },
  {
   "cell_type": "code",
   "execution_count": 23,
   "id": "928011ac-a97e-499c-84d4-e4f43200ca05",
   "metadata": {},
   "outputs": [
    {
     "data": {
      "image/png": "[encoded data removed]",
      "text/plain": [
       "<Figure size 640x480 with 1 Axes>"
      ]
     },
     "metadata": {},
     "output_type": "display_data"
    }
   ],
   "source": [
    "ax=sns.kdeplot(df[\"fare_amount\"])\n",
    "for item in ax.containers:\n",
    "    ax.bar_labels(item)\n",
    "    "
   ]
  },
  {
   "cell_type": "code",
   "execution_count": 24,
   "id": "cc93dbbb-5be6-4a72-8cf2-9a3fdd97f4eb",
   "metadata": {},
   "outputs": [
    {
     "data": {
      "text/plain": [
       "4.496307362571945"
      ]
     },
     "execution_count": 24,
     "metadata": {},
     "output_type": "execute_result"
    }
   ],
   "source": [
    "df[\"fare_amount\"].skew()"
   ]
  },
  {
   "cell_type": "code",
   "execution_count": 25,
   "id": "9401d72c-9b09-40bb-bd2d-bf7c306018ed",
   "metadata": {},
   "outputs": [
    {
     "data": {
      "text/plain": [
       "10.96451"
      ]
     },
     "execution_count": 25,
     "metadata": {},
     "output_type": "execute_result"
    }
   ],
   "source": [
    "#Average of the data.\n",
    "df[\"fare_amount\"].mean()"
   ]
  },
  {
   "cell_type": "code",
   "execution_count": 26,
   "id": "4cee1d81-1da7-406f-ac6c-3e97b4286357",
   "metadata": {},
   "outputs": [
    {
     "name": "stdout",
     "output_type": "stream",
     "text": [
      "THE MAXIMUM AMOUNT OF FAIR IS 499\n"
     ]
    }
   ],
   "source": [
    "print(\"THE MAXIMUM AMOUNT OF FAIR IS\",df[\"fare_amount\"].max())"
   ]
  },
  {
   "cell_type": "code",
   "execution_count": 27,
   "id": "3ee8755c-765f-4802-9828-a9e2b8cd5fad",
   "metadata": {},
   "outputs": [
    {
     "name": "stdout",
     "output_type": "stream",
     "text": [
      "THE MIN AMOUNT OF FAIR IS -52\n"
     ]
    }
   ],
   "source": [
    "print(\"THE MIN AMOUNT OF FAIR IS\",df[\"fare_amount\"].min())"
   ]
  },
  {
   "cell_type": "markdown",
   "id": "714f96db-88a0-4040-aadd-e56bc6b95802",
   "metadata": {},
   "source": [
    "                                            Conclusion:\n",
    "                                            1.THE VALUE OF OUTLIERS ARE VERY HIGH IN THE FAIR.\n",
    "                                            2.IT IS POSITIVELY SKEWED.\n",
    "                                            3.THE MOST OF THE FAIR MEANS THE GENERAL TICKET PRICE OF MOST OF THE MEMEBERS IS BETWEEN 0-100."
   ]
  },
  {
   "cell_type": "markdown",
   "id": "757fd855-9333-49ac-a4fb-f9cdd35134c9",
   "metadata": {},
   "source": [
    "#Q3.What is the distribution of trips over different times of the day?"
   ]
  },
  {
   "cell_type": "code",
   "execution_count": 28,
   "id": "ea0a316d-11d0-4b5b-9811-9dc4bbf57fca",
   "metadata": {},
   "outputs": [
    {
     "data": {
      "text/html": [
       "<div>\n",
       "<style scoped>\n",
       "    .dataframe tbody tr th:only-of-type {\n",
       "        vertical-align: middle;\n",
       "    }\n",
       "\n",
       "    .dataframe tbody tr th {\n",
       "        vertical-align: top;\n",
       "    }\n",
       "\n",
       "    .dataframe thead th {\n",
       "        text-align: right;\n",
       "    }\n",
       "</style>\n",
       "<table border=\"1\" class=\"dataframe\">\n",
       "  <thead>\n",
       "    <tr style=\"text-align: right;\">\n",
       "      <th></th>\n",
       "      <th>ID</th>\n",
       "      <th>key</th>\n",
       "      <th>fare_amount</th>\n",
       "      <th>pickup_datetime</th>\n",
       "      <th>pickup_longitude</th>\n",
       "      <th>pickup_latitude</th>\n",
       "      <th>dropoff_longitude</th>\n",
       "      <th>dropoff_latitude</th>\n",
       "      <th>passenger_count</th>\n",
       "      <th>pickup_date</th>\n",
       "      <th>pickup_time</th>\n",
       "      <th>Time_Zone</th>\n",
       "      <th>Max_Time_Range</th>\n",
       "      <th>Min_Time_Range</th>\n",
       "    </tr>\n",
       "  </thead>\n",
       "  <tbody>\n",
       "    <tr>\n",
       "      <th>0</th>\n",
       "      <td>24238194</td>\n",
       "      <td>52:06.0</td>\n",
       "      <td>7</td>\n",
       "      <td>2015-05-07 19:52:06 UTC</td>\n",
       "      <td>-73.999817</td>\n",
       "      <td>40.738354</td>\n",
       "      <td>-73.999512</td>\n",
       "      <td>40.723217</td>\n",
       "      <td>1</td>\n",
       "      <td>2015-05-07</td>\n",
       "      <td>19:52:06</td>\n",
       "      <td>UTC</td>\n",
       "      <td>23:59:59</td>\n",
       "      <td>00:00:00</td>\n",
       "    </tr>\n",
       "    <tr>\n",
       "      <th>1</th>\n",
       "      <td>27835199</td>\n",
       "      <td>04:56.0</td>\n",
       "      <td>7</td>\n",
       "      <td>2009-07-17 20:04:56 UTC</td>\n",
       "      <td>-73.994355</td>\n",
       "      <td>40.728225</td>\n",
       "      <td>-73.994710</td>\n",
       "      <td>40.750325</td>\n",
       "      <td>1</td>\n",
       "      <td>2009-07-17</td>\n",
       "      <td>20:04:56</td>\n",
       "      <td>UTC</td>\n",
       "      <td>23:59:59</td>\n",
       "      <td>00:00:00</td>\n",
       "    </tr>\n",
       "  </tbody>\n",
       "</table>\n",
       "</div>"
      ],
      "text/plain": [
       "         ID      key  fare_amount          pickup_datetime  pickup_longitude  \\\n",
       "0  24238194  52:06.0            7  2015-05-07 19:52:06 UTC        -73.999817   \n",
       "1  27835199  04:56.0            7  2009-07-17 20:04:56 UTC        -73.994355   \n",
       "\n",
       "   pickup_latitude  dropoff_longitude  dropoff_latitude  passenger_count  \\\n",
       "0        40.738354         -73.999512         40.723217                1   \n",
       "1        40.728225         -73.994710         40.750325                1   \n",
       "\n",
       "  pickup_date pickup_time Time_Zone Max_Time_Range Min_Time_Range  \n",
       "0  2015-05-07    19:52:06       UTC       23:59:59       00:00:00  \n",
       "1  2009-07-17    20:04:56       UTC       23:59:59       00:00:00  "
      ]
     },
     "execution_count": 28,
     "metadata": {},
     "output_type": "execute_result"
    }
   ],
   "source": [
    "df.head(2)"
   ]
  },
  {
   "cell_type": "code",
   "execution_count": 29,
   "id": "92a36478-ca4c-49a7-a5c1-858c5bc47fe5",
   "metadata": {},
   "outputs": [],
   "source": [
    "df[\"year\"]=df[\"pickup_date\"].str.split(\"-\").str[0]\n",
    "df[\"Month\"]=df[\"pickup_date\"].str.split(\"-\").str[1]\n",
    "df[\"Day\"]=df[\"pickup_date\"].str.split(\"-\").str[2]"
   ]
  },
  {
   "cell_type": "code",
   "execution_count": 30,
   "id": "607ed949-1f24-498e-afcb-59eba62bd8a5",
   "metadata": {},
   "outputs": [],
   "source": [
    "df[\"HOUR\"]=df[\"pickup_time\"].str.split(\":\").str[0]\n",
    "df[\"Minutes\"]=df[\"pickup_time\"].str.split(\":\").str[1]\n",
    "df[\"Sec\"]=df[\"pickup_time\"].str.split(\":\").str[2]"
   ]
  },
  {
   "cell_type": "code",
   "execution_count": 31,
   "id": "17c2ef90-1f58-46b3-8d88-412cdc72280e",
   "metadata": {},
   "outputs": [
    {
     "data": {
      "text/plain": [
       "<Axes: xlabel='Day', ylabel='HOUR'>"
      ]
     },
     "execution_count": 31,
     "metadata": {},
     "output_type": "execute_result"
    },
    {
     "data": {
      "image/png": "[encoded data removed]",
      "text/plain": [
       "<Figure size 640x480 with 1 Axes>"
      ]
     },
     "metadata": {},
     "output_type": "display_data"
    }
   ],
   "source": [
    "sns.lineplot(x=\"Day\",y=\"HOUR\",data=df)"
   ]
  },
  {
   "cell_type": "markdown",
   "id": "c509e0e6-d8a8-4fbb-9f56-85e3dd6fef1d",
   "metadata": {},
   "source": [
    "                                    Q4.WHAT IS THE BUSIEST HOUR?"
   ]
  },
  {
   "cell_type": "code",
   "execution_count": 32,
   "id": "8414aaa7-25f9-4caf-ba8d-54d6f93db257",
   "metadata": {},
   "outputs": [],
   "source": [
    "df_tala=df[\"HOUR\"].value_counts().index"
   ]
  },
  {
   "cell_type": "code",
   "execution_count": 33,
   "id": "b75ad846-dadb-429d-8848-26d009e3d1e5",
   "metadata": {},
   "outputs": [],
   "source": [
    "df_volo=df[\"HOUR\"].value_counts().values"
   ]
  },
  {
   "cell_type": "code",
   "execution_count": 34,
   "id": "f8a563a1-35ab-4fe5-ba07-8c17b29d7768",
   "metadata": {},
   "outputs": [
    {
     "data": {
      "text/plain": [
       "([<matplotlib.patches.Wedge at 0x219a204c1d0>,\n",
       "  <matplotlib.patches.Wedge at 0x219a203e870>,\n",
       "  <matplotlib.patches.Wedge at 0x219a2033c20>,\n",
       "  <matplotlib.patches.Wedge at 0x219a2033320>,\n",
       "  <matplotlib.patches.Wedge at 0x219a2032a20>],\n",
       " [Text(0.8606230893571257, 0.6850751039597024, '19'),\n",
       "  Text(-0.44623263622202486, 1.0054235099550548, '18'),\n",
       "  Text(-1.0923807332492783, -0.1292452460470759, '20'),\n",
       "  Text(-0.2352848276552062, -1.074542251321585, '21'),\n",
       "  Text(0.9152984691480243, -0.6101054928250387, '22')],\n",
       " [Text(0.46943077601297756, 0.3736773294325649, '21%'),\n",
       "  Text(-0.24339961975746807, 0.548412823611848, '20%'),\n",
       "  Text(-0.5958440363177882, -0.07049740693476866, '20%'),\n",
       "  Text(-0.12833717872102154, -0.5861139552663189, '19%'),\n",
       "  Text(0.49925371044437683, -0.3327848142682029, '19%')])"
      ]
     },
     "execution_count": 34,
     "metadata": {},
     "output_type": "execute_result"
    },
    {
     "data": {
      "image/png": "[encoded data removed]",
      "text/plain": [
       "<Figure size 640x480 with 1 Axes>"
      ]
     },
     "metadata": {},
     "output_type": "display_data"
    }
   ],
   "source": [
    "plt.pie(df_volo[:5], labels=df_tala[:5], autopct=\"%1.0f%%\")\n"
   ]
  },
  {
   "cell_type": "markdown",
   "id": "7528b6eb-7f0b-491e-b228-c75dc896f7a9",
   "metadata": {},
   "source": [
    "                             CONCLUSION>\n",
    "                            1.THE BUSIEST HOUR IS 19:00 HOUR MEANS AROUND 7:00 AM OR 7:00PM.\n",
    "                            2.THERE ARE SOME OUTLIERS ARE THERE.\n",
    "                            "
   ]
  },
  {
   "cell_type": "markdown",
   "id": "8d0a9140-ee22-4729-a7f7-00065e3b60bb",
   "metadata": {},
   "source": [
    "              #Q4.What is the distribution of passenger counts?"
   ]
  },
  {
   "cell_type": "code",
   "execution_count": 35,
   "id": "9bbfa837-bce3-4451-ab5b-201b6077e922",
   "metadata": {},
   "outputs": [
    {
     "data": {
      "text/html": [
       "<div>\n",
       "<style scoped>\n",
       "    .dataframe tbody tr th:only-of-type {\n",
       "        vertical-align: middle;\n",
       "    }\n",
       "\n",
       "    .dataframe tbody tr th {\n",
       "        vertical-align: top;\n",
       "    }\n",
       "\n",
       "    .dataframe thead th {\n",
       "        text-align: right;\n",
       "    }\n",
       "</style>\n",
       "<table border=\"1\" class=\"dataframe\">\n",
       "  <thead>\n",
       "    <tr style=\"text-align: right;\">\n",
       "      <th></th>\n",
       "      <th>ID</th>\n",
       "      <th>key</th>\n",
       "      <th>fare_amount</th>\n",
       "      <th>pickup_datetime</th>\n",
       "      <th>pickup_longitude</th>\n",
       "      <th>pickup_latitude</th>\n",
       "      <th>dropoff_longitude</th>\n",
       "      <th>dropoff_latitude</th>\n",
       "      <th>passenger_count</th>\n",
       "      <th>pickup_date</th>\n",
       "      <th>pickup_time</th>\n",
       "      <th>Time_Zone</th>\n",
       "      <th>Max_Time_Range</th>\n",
       "      <th>Min_Time_Range</th>\n",
       "      <th>year</th>\n",
       "      <th>Month</th>\n",
       "      <th>Day</th>\n",
       "      <th>HOUR</th>\n",
       "      <th>Minutes</th>\n",
       "      <th>Sec</th>\n",
       "    </tr>\n",
       "  </thead>\n",
       "  <tbody>\n",
       "    <tr>\n",
       "      <th>0</th>\n",
       "      <td>24238194</td>\n",
       "      <td>52:06.0</td>\n",
       "      <td>7</td>\n",
       "      <td>2015-05-07 19:52:06 UTC</td>\n",
       "      <td>-73.999817</td>\n",
       "      <td>40.738354</td>\n",
       "      <td>-73.999512</td>\n",
       "      <td>40.723217</td>\n",
       "      <td>1</td>\n",
       "      <td>2015-05-07</td>\n",
       "      <td>19:52:06</td>\n",
       "      <td>UTC</td>\n",
       "      <td>23:59:59</td>\n",
       "      <td>00:00:00</td>\n",
       "      <td>2015</td>\n",
       "      <td>05</td>\n",
       "      <td>07</td>\n",
       "      <td>19</td>\n",
       "      <td>52</td>\n",
       "      <td>06</td>\n",
       "    </tr>\n",
       "    <tr>\n",
       "      <th>1</th>\n",
       "      <td>27835199</td>\n",
       "      <td>04:56.0</td>\n",
       "      <td>7</td>\n",
       "      <td>2009-07-17 20:04:56 UTC</td>\n",
       "      <td>-73.994355</td>\n",
       "      <td>40.728225</td>\n",
       "      <td>-73.994710</td>\n",
       "      <td>40.750325</td>\n",
       "      <td>1</td>\n",
       "      <td>2009-07-17</td>\n",
       "      <td>20:04:56</td>\n",
       "      <td>UTC</td>\n",
       "      <td>23:59:59</td>\n",
       "      <td>00:00:00</td>\n",
       "      <td>2009</td>\n",
       "      <td>07</td>\n",
       "      <td>17</td>\n",
       "      <td>20</td>\n",
       "      <td>04</td>\n",
       "      <td>56</td>\n",
       "    </tr>\n",
       "  </tbody>\n",
       "</table>\n",
       "</div>"
      ],
      "text/plain": [
       "         ID      key  fare_amount          pickup_datetime  pickup_longitude  \\\n",
       "0  24238194  52:06.0            7  2015-05-07 19:52:06 UTC        -73.999817   \n",
       "1  27835199  04:56.0            7  2009-07-17 20:04:56 UTC        -73.994355   \n",
       "\n",
       "   pickup_latitude  dropoff_longitude  dropoff_latitude  passenger_count  \\\n",
       "0        40.738354         -73.999512         40.723217                1   \n",
       "1        40.728225         -73.994710         40.750325                1   \n",
       "\n",
       "  pickup_date pickup_time Time_Zone Max_Time_Range Min_Time_Range  year Month  \\\n",
       "0  2015-05-07    19:52:06       UTC       23:59:59       00:00:00  2015    05   \n",
       "1  2009-07-17    20:04:56       UTC       23:59:59       00:00:00  2009    07   \n",
       "\n",
       "  Day HOUR Minutes Sec  \n",
       "0  07   19      52  06  \n",
       "1  17   20      04  56  "
      ]
     },
     "execution_count": 35,
     "metadata": {},
     "output_type": "execute_result"
    }
   ],
   "source": [
    "df.head(2)"
   ]
  },
  {
   "cell_type": "code",
   "execution_count": 36,
   "id": "5c44c920-4afa-4224-aa88-912e6becfcdc",
   "metadata": {},
   "outputs": [
    {
     "data": {
      "text/plain": [
       "count    200000.000000\n",
       "mean          1.684535\n",
       "std           1.385997\n",
       "min           0.000000\n",
       "25%           1.000000\n",
       "50%           1.000000\n",
       "75%           2.000000\n",
       "max         208.000000\n",
       "Name: passenger_count, dtype: float64"
      ]
     },
     "execution_count": 36,
     "metadata": {},
     "output_type": "execute_result"
    }
   ],
   "source": [
    "df[\"passenger_count\"].describe()"
   ]
  },
  {
   "cell_type": "code",
   "execution_count": 37,
   "id": "e5c6d5a8-50b9-4e94-a980-c105d53ad77f",
   "metadata": {},
   "outputs": [
    {
     "data": {
      "text/plain": [
       "<Axes: xlabel='passenger_count', ylabel='Density'>"
      ]
     },
     "execution_count": 37,
     "metadata": {},
     "output_type": "execute_result"
    },
    {
     "data": {
      "image/png": "[encoded data removed]",
      "text/plain": [
       "<Figure size 640x480 with 1 Axes>"
      ]
     },
     "metadata": {},
     "output_type": "display_data"
    }
   ],
   "source": [
    "sns.kdeplot(df[\"passenger_count\"])"
   ]
  },
  {
   "cell_type": "code",
   "execution_count": 38,
   "id": "f1c54bbc-3d0a-4be2-b64f-5ae64ac39c59",
   "metadata": {},
   "outputs": [
    {
     "data": {
      "text/plain": [
       "(array([1.99999e+05, 0.00000e+00, 0.00000e+00, 0.00000e+00, 0.00000e+00,\n",
       "        0.00000e+00, 0.00000e+00, 0.00000e+00, 0.00000e+00, 1.00000e+00]),\n",
       " array([  0. ,  20.8,  41.6,  62.4,  83.2, 104. , 124.8, 145.6, 166.4,\n",
       "        187.2, 208. ]),\n",
       " <BarContainer object of 10 artists>)"
      ]
     },
     "execution_count": 38,
     "metadata": {},
     "output_type": "execute_result"
    },
    {
     "data": {
      "image/png": "[encoded data removed]",
      "text/plain": [
       "<Figure size 640x480 with 1 Axes>"
      ]
     },
     "metadata": {},
     "output_type": "display_data"
    }
   ],
   "source": [
    "plt.hist(df[\"passenger_count\"],bins=10)"
   ]
  },
  {
   "cell_type": "code",
   "execution_count": 39,
   "id": "ebd7ef87-c178-4999-b699-e95d325dcc82",
   "metadata": {},
   "outputs": [],
   "source": [
    "logo=df[\"passenger_count\"].value_counts().index"
   ]
  },
  {
   "cell_type": "code",
   "execution_count": 40,
   "id": "b3957727-7c1a-4f57-bf2f-d9200e6c9d4a",
   "metadata": {},
   "outputs": [],
   "source": [
    "oyo=df[\"passenger_count\"].value_counts().values"
   ]
  },
  {
   "cell_type": "code",
   "execution_count": 41,
   "id": "91be4908-01e3-47ef-8fa9-8c39bf29c56d",
   "metadata": {},
   "outputs": [
    {
     "data": {
      "text/plain": [
       "([<matplotlib.patches.Wedge at 0x219a1fe4b30>,\n",
       "  <matplotlib.patches.Wedge at 0x219a2010b60>,\n",
       "  <matplotlib.patches.Wedge at 0x219a1fdfef0>,\n",
       "  <matplotlib.patches.Wedge at 0x219a1fdf6b0>,\n",
       "  <matplotlib.patches.Wedge at 0x219a1fdecf0>],\n",
       " [Text(-0.673658688276769, 0.8695883921196413, '1'),\n",
       "  Text(0.24165488985378913, -1.0731276318359122, '2'),\n",
       "  Text(0.8759784830336349, -0.665328262786192, '5'),\n",
       "  Text(1.056907975437367, -0.3048696958651126, '3'),\n",
       "  Text(1.097391366769689, -0.07571121541326759, '4')],\n",
       " [Text(-0.3674501936055103, 0.47432094115616796, '70.9803%'),\n",
       "  Text(0.13181175810206677, -0.5853423446377702, '15.0898%'),\n",
       "  Text(0.4778064452910735, -0.36290632515610466, '7.1834%'),\n",
       "  Text(0.5764952593294729, -0.16629256138097048, '4.5539%'),\n",
       "  Text(0.598577109147103, -0.04129702658905504, '2.1926%')])"
      ]
     },
     "execution_count": 41,
     "metadata": {},
     "output_type": "execute_result"
    },
    {
     "data": {
      "image/png": "[encoded data removed]",
      "text/plain": [
       "<Figure size 640x480 with 1 Axes>"
      ]
     },
     "metadata": {},
     "output_type": "display_data"
    }
   ],
   "source": [
    "plt.pie(oyo[:5], labels=logo[:5], autopct=\"%1.4f%%\")\n"
   ]
  },
  {
   "cell_type": "markdown",
   "id": "6d741ad4-e6fd-41a2-92e6-19bde50cc709",
   "metadata": {},
   "source": [
    "               #CONCLUSION:->\n",
    "               1.THE MOST COMMON NUMBER OF PASSENGER IS :->Type 1 or 1 passesngers.\n",
    "               2.THE AMOUNT OF TYPE 1 PASSENGERS IS 70.983"
   ]
  },
  {
   "cell_type": "markdown",
   "id": "3d2cd476-96b6-4657-af79-ff939630f824",
   "metadata": {},
   "source": [
    "                       #BIVARIATE ANALYSIS."
   ]
  },
  {
   "cell_type": "code",
   "execution_count": 42,
   "id": "d640480f-603d-47f9-8d4f-be67d382b30a",
   "metadata": {},
   "outputs": [
    {
     "data": {
      "text/html": [
       "<div>\n",
       "<style scoped>\n",
       "    .dataframe tbody tr th:only-of-type {\n",
       "        vertical-align: middle;\n",
       "    }\n",
       "\n",
       "    .dataframe tbody tr th {\n",
       "        vertical-align: top;\n",
       "    }\n",
       "\n",
       "    .dataframe thead th {\n",
       "        text-align: right;\n",
       "    }\n",
       "</style>\n",
       "<table border=\"1\" class=\"dataframe\">\n",
       "  <thead>\n",
       "    <tr style=\"text-align: right;\">\n",
       "      <th></th>\n",
       "      <th>ID</th>\n",
       "      <th>key</th>\n",
       "      <th>fare_amount</th>\n",
       "      <th>pickup_datetime</th>\n",
       "      <th>pickup_longitude</th>\n",
       "      <th>pickup_latitude</th>\n",
       "      <th>dropoff_longitude</th>\n",
       "      <th>dropoff_latitude</th>\n",
       "      <th>passenger_count</th>\n",
       "      <th>pickup_date</th>\n",
       "      <th>pickup_time</th>\n",
       "      <th>Time_Zone</th>\n",
       "      <th>Max_Time_Range</th>\n",
       "      <th>Min_Time_Range</th>\n",
       "      <th>year</th>\n",
       "      <th>Month</th>\n",
       "      <th>Day</th>\n",
       "      <th>HOUR</th>\n",
       "      <th>Minutes</th>\n",
       "      <th>Sec</th>\n",
       "    </tr>\n",
       "  </thead>\n",
       "  <tbody>\n",
       "    <tr>\n",
       "      <th>0</th>\n",
       "      <td>24238194</td>\n",
       "      <td>52:06.0</td>\n",
       "      <td>7</td>\n",
       "      <td>2015-05-07 19:52:06 UTC</td>\n",
       "      <td>-73.999817</td>\n",
       "      <td>40.738354</td>\n",
       "      <td>-73.999512</td>\n",
       "      <td>40.723217</td>\n",
       "      <td>1</td>\n",
       "      <td>2015-05-07</td>\n",
       "      <td>19:52:06</td>\n",
       "      <td>UTC</td>\n",
       "      <td>23:59:59</td>\n",
       "      <td>00:00:00</td>\n",
       "      <td>2015</td>\n",
       "      <td>05</td>\n",
       "      <td>07</td>\n",
       "      <td>19</td>\n",
       "      <td>52</td>\n",
       "      <td>06</td>\n",
       "    </tr>\n",
       "    <tr>\n",
       "      <th>1</th>\n",
       "      <td>27835199</td>\n",
       "      <td>04:56.0</td>\n",
       "      <td>7</td>\n",
       "      <td>2009-07-17 20:04:56 UTC</td>\n",
       "      <td>-73.994355</td>\n",
       "      <td>40.728225</td>\n",
       "      <td>-73.994710</td>\n",
       "      <td>40.750325</td>\n",
       "      <td>1</td>\n",
       "      <td>2009-07-17</td>\n",
       "      <td>20:04:56</td>\n",
       "      <td>UTC</td>\n",
       "      <td>23:59:59</td>\n",
       "      <td>00:00:00</td>\n",
       "      <td>2009</td>\n",
       "      <td>07</td>\n",
       "      <td>17</td>\n",
       "      <td>20</td>\n",
       "      <td>04</td>\n",
       "      <td>56</td>\n",
       "    </tr>\n",
       "  </tbody>\n",
       "</table>\n",
       "</div>"
      ],
      "text/plain": [
       "         ID      key  fare_amount          pickup_datetime  pickup_longitude  \\\n",
       "0  24238194  52:06.0            7  2015-05-07 19:52:06 UTC        -73.999817   \n",
       "1  27835199  04:56.0            7  2009-07-17 20:04:56 UTC        -73.994355   \n",
       "\n",
       "   pickup_latitude  dropoff_longitude  dropoff_latitude  passenger_count  \\\n",
       "0        40.738354         -73.999512         40.723217                1   \n",
       "1        40.728225         -73.994710         40.750325                1   \n",
       "\n",
       "  pickup_date pickup_time Time_Zone Max_Time_Range Min_Time_Range  year Month  \\\n",
       "0  2015-05-07    19:52:06       UTC       23:59:59       00:00:00  2015    05   \n",
       "1  2009-07-17    20:04:56       UTC       23:59:59       00:00:00  2009    07   \n",
       "\n",
       "  Day HOUR Minutes Sec  \n",
       "0  07   19      52  06  \n",
       "1  17   20      04  56  "
      ]
     },
     "execution_count": 42,
     "metadata": {},
     "output_type": "execute_result"
    }
   ],
   "source": [
    "df.head(2)"
   ]
  },
  {
   "cell_type": "markdown",
   "id": "a18a8537-4e2d-4334-8455-a4e01ce3985b",
   "metadata": {},
   "source": [
    "                                    How does fare amount vary with the time of day?"
   ]
  },
  {
   "cell_type": "code",
   "execution_count": 43,
   "id": "461a69a9-e044-4e63-b1ea-e27341ac9d30",
   "metadata": {},
   "outputs": [],
   "source": [
    "x=df[\"HOUR\"]\n",
    "y=df[\"fare_amount\"]"
   ]
  },
  {
   "cell_type": "code",
   "execution_count": 44,
   "id": "a4f99208-141a-4c5f-95e8-31cf3af4978a",
   "metadata": {},
   "outputs": [
    {
     "data": {
      "image/png": "[encoded data removed]",
      "text/plain": [
       "<Figure size 640x480 with 1 Axes>"
      ]
     },
     "metadata": {},
     "output_type": "display_data"
    }
   ],
   "source": [
    "import seaborn as sns\n",
    "\n",
    "sns.barplot(x=x, y=y)\n",
    "plt.show()  # Assuming you want to display the plot\n"
   ]
  },
  {
   "cell_type": "markdown",
   "id": "ff428e99-58f2-4e09-aedd-fa17854aff73",
   "metadata": {},
   "source": [
    "           #Conclusion:->\n",
    "           1.The highest peak of fair when it is around 5:00PM.\n",
    "           2.This will also shows that when it comes to peak hour the fair amount if general means not very high nor low."
   ]
  },
  {
   "cell_type": "markdown",
   "id": "884c22ba-69dd-4102-9d08-096aaacb8204",
   "metadata": {},
   "source": [
    "                       #Q6.Is there a correlation between the number of passengers and the fare amount?\n",
    "                       #6(b).Do trips with more passengers generally have higher fares?"
   ]
  },
  {
   "cell_type": "code",
   "execution_count": 45,
   "id": "2493ac7f-3dd8-444d-a08a-e0a415623cef",
   "metadata": {},
   "outputs": [
    {
     "data": {
      "text/html": [
       "<div>\n",
       "<style scoped>\n",
       "    .dataframe tbody tr th:only-of-type {\n",
       "        vertical-align: middle;\n",
       "    }\n",
       "\n",
       "    .dataframe tbody tr th {\n",
       "        vertical-align: top;\n",
       "    }\n",
       "\n",
       "    .dataframe thead th {\n",
       "        text-align: right;\n",
       "    }\n",
       "</style>\n",
       "<table border=\"1\" class=\"dataframe\">\n",
       "  <thead>\n",
       "    <tr style=\"text-align: right;\">\n",
       "      <th></th>\n",
       "      <th>ID</th>\n",
       "      <th>key</th>\n",
       "      <th>fare_amount</th>\n",
       "      <th>pickup_datetime</th>\n",
       "      <th>pickup_longitude</th>\n",
       "      <th>pickup_latitude</th>\n",
       "      <th>dropoff_longitude</th>\n",
       "      <th>dropoff_latitude</th>\n",
       "      <th>passenger_count</th>\n",
       "      <th>pickup_date</th>\n",
       "      <th>pickup_time</th>\n",
       "      <th>Time_Zone</th>\n",
       "      <th>Max_Time_Range</th>\n",
       "      <th>Min_Time_Range</th>\n",
       "      <th>year</th>\n",
       "      <th>Month</th>\n",
       "      <th>Day</th>\n",
       "      <th>HOUR</th>\n",
       "      <th>Minutes</th>\n",
       "      <th>Sec</th>\n",
       "    </tr>\n",
       "  </thead>\n",
       "  <tbody>\n",
       "    <tr>\n",
       "      <th>0</th>\n",
       "      <td>24238194</td>\n",
       "      <td>52:06.0</td>\n",
       "      <td>7</td>\n",
       "      <td>2015-05-07 19:52:06 UTC</td>\n",
       "      <td>-73.999817</td>\n",
       "      <td>40.738354</td>\n",
       "      <td>-73.999512</td>\n",
       "      <td>40.723217</td>\n",
       "      <td>1</td>\n",
       "      <td>2015-05-07</td>\n",
       "      <td>19:52:06</td>\n",
       "      <td>UTC</td>\n",
       "      <td>23:59:59</td>\n",
       "      <td>00:00:00</td>\n",
       "      <td>2015</td>\n",
       "      <td>05</td>\n",
       "      <td>07</td>\n",
       "      <td>19</td>\n",
       "      <td>52</td>\n",
       "      <td>06</td>\n",
       "    </tr>\n",
       "    <tr>\n",
       "      <th>1</th>\n",
       "      <td>27835199</td>\n",
       "      <td>04:56.0</td>\n",
       "      <td>7</td>\n",
       "      <td>2009-07-17 20:04:56 UTC</td>\n",
       "      <td>-73.994355</td>\n",
       "      <td>40.728225</td>\n",
       "      <td>-73.994710</td>\n",
       "      <td>40.750325</td>\n",
       "      <td>1</td>\n",
       "      <td>2009-07-17</td>\n",
       "      <td>20:04:56</td>\n",
       "      <td>UTC</td>\n",
       "      <td>23:59:59</td>\n",
       "      <td>00:00:00</td>\n",
       "      <td>2009</td>\n",
       "      <td>07</td>\n",
       "      <td>17</td>\n",
       "      <td>20</td>\n",
       "      <td>04</td>\n",
       "      <td>56</td>\n",
       "    </tr>\n",
       "  </tbody>\n",
       "</table>\n",
       "</div>"
      ],
      "text/plain": [
       "         ID      key  fare_amount          pickup_datetime  pickup_longitude  \\\n",
       "0  24238194  52:06.0            7  2015-05-07 19:52:06 UTC        -73.999817   \n",
       "1  27835199  04:56.0            7  2009-07-17 20:04:56 UTC        -73.994355   \n",
       "\n",
       "   pickup_latitude  dropoff_longitude  dropoff_latitude  passenger_count  \\\n",
       "0        40.738354         -73.999512         40.723217                1   \n",
       "1        40.728225         -73.994710         40.750325                1   \n",
       "\n",
       "  pickup_date pickup_time Time_Zone Max_Time_Range Min_Time_Range  year Month  \\\n",
       "0  2015-05-07    19:52:06       UTC       23:59:59       00:00:00  2015    05   \n",
       "1  2009-07-17    20:04:56       UTC       23:59:59       00:00:00  2009    07   \n",
       "\n",
       "  Day HOUR Minutes Sec  \n",
       "0  07   19      52  06  \n",
       "1  17   20      04  56  "
      ]
     },
     "execution_count": 45,
     "metadata": {},
     "output_type": "execute_result"
    }
   ],
   "source": [
    "df.head(2)"
   ]
  },
  {
   "cell_type": "code",
   "execution_count": 46,
   "id": "28563fa2-e8a9-465b-a62f-79aed5504b2a",
   "metadata": {},
   "outputs": [
    {
     "data": {
      "text/plain": [
       "<Axes: xlabel='passenger_count', ylabel='fare_amount'>"
      ]
     },
     "execution_count": 46,
     "metadata": {},
     "output_type": "execute_result"
    },
    {
     "data": {
      "image/png": "[encoded data removed]",
      "text/plain": [
       "<Figure size 640x480 with 1 Axes>"
      ]
     },
     "metadata": {},
     "output_type": "display_data"
    }
   ],
   "source": [
    "sns.barplot(x=\"passenger_count\",y=\"fare_amount\",data=df)"
   ]
  },
  {
   "cell_type": "markdown",
   "id": "5f1e0ba5-7dee-48d2-a148-67738562af19",
   "metadata": {},
   "source": [
    "                            Conclusion:>\n",
    "                            1.Yes correlation\n",
    "                            2.No this is not true that if the passenger count increases the fair also increases.\n",
    "                            "
   ]
  },
  {
   "cell_type": "code",
   "execution_count": 47,
   "id": "717476b9-60fe-4377-9c63-365a94bb6a68",
   "metadata": {},
   "outputs": [
    {
     "data": {
      "text/html": [
       "<div>\n",
       "<style scoped>\n",
       "    .dataframe tbody tr th:only-of-type {\n",
       "        vertical-align: middle;\n",
       "    }\n",
       "\n",
       "    .dataframe tbody tr th {\n",
       "        vertical-align: top;\n",
       "    }\n",
       "\n",
       "    .dataframe thead th {\n",
       "        text-align: right;\n",
       "    }\n",
       "</style>\n",
       "<table border=\"1\" class=\"dataframe\">\n",
       "  <thead>\n",
       "    <tr style=\"text-align: right;\">\n",
       "      <th></th>\n",
       "      <th>ID</th>\n",
       "      <th>key</th>\n",
       "      <th>fare_amount</th>\n",
       "      <th>pickup_datetime</th>\n",
       "      <th>pickup_longitude</th>\n",
       "      <th>pickup_latitude</th>\n",
       "      <th>dropoff_longitude</th>\n",
       "      <th>dropoff_latitude</th>\n",
       "      <th>passenger_count</th>\n",
       "      <th>pickup_date</th>\n",
       "      <th>pickup_time</th>\n",
       "      <th>Time_Zone</th>\n",
       "      <th>Max_Time_Range</th>\n",
       "      <th>Min_Time_Range</th>\n",
       "      <th>year</th>\n",
       "      <th>Month</th>\n",
       "      <th>Day</th>\n",
       "      <th>HOUR</th>\n",
       "      <th>Minutes</th>\n",
       "      <th>Sec</th>\n",
       "    </tr>\n",
       "  </thead>\n",
       "  <tbody>\n",
       "    <tr>\n",
       "      <th>0</th>\n",
       "      <td>24238194</td>\n",
       "      <td>52:06.0</td>\n",
       "      <td>7</td>\n",
       "      <td>2015-05-07 19:52:06 UTC</td>\n",
       "      <td>-73.999817</td>\n",
       "      <td>40.738354</td>\n",
       "      <td>-73.999512</td>\n",
       "      <td>40.723217</td>\n",
       "      <td>1</td>\n",
       "      <td>2015-05-07</td>\n",
       "      <td>19:52:06</td>\n",
       "      <td>UTC</td>\n",
       "      <td>23:59:59</td>\n",
       "      <td>00:00:00</td>\n",
       "      <td>2015</td>\n",
       "      <td>05</td>\n",
       "      <td>07</td>\n",
       "      <td>19</td>\n",
       "      <td>52</td>\n",
       "      <td>06</td>\n",
       "    </tr>\n",
       "    <tr>\n",
       "      <th>1</th>\n",
       "      <td>27835199</td>\n",
       "      <td>04:56.0</td>\n",
       "      <td>7</td>\n",
       "      <td>2009-07-17 20:04:56 UTC</td>\n",
       "      <td>-73.994355</td>\n",
       "      <td>40.728225</td>\n",
       "      <td>-73.994710</td>\n",
       "      <td>40.750325</td>\n",
       "      <td>1</td>\n",
       "      <td>2009-07-17</td>\n",
       "      <td>20:04:56</td>\n",
       "      <td>UTC</td>\n",
       "      <td>23:59:59</td>\n",
       "      <td>00:00:00</td>\n",
       "      <td>2009</td>\n",
       "      <td>07</td>\n",
       "      <td>17</td>\n",
       "      <td>20</td>\n",
       "      <td>04</td>\n",
       "      <td>56</td>\n",
       "    </tr>\n",
       "    <tr>\n",
       "      <th>2</th>\n",
       "      <td>44984355</td>\n",
       "      <td>45:00.0</td>\n",
       "      <td>12</td>\n",
       "      <td>2009-08-24 21:45:00 UTC</td>\n",
       "      <td>-74.005043</td>\n",
       "      <td>40.740770</td>\n",
       "      <td>-73.962565</td>\n",
       "      <td>40.772647</td>\n",
       "      <td>1</td>\n",
       "      <td>2009-08-24</td>\n",
       "      <td>21:45:00</td>\n",
       "      <td>UTC</td>\n",
       "      <td>23:59:59</td>\n",
       "      <td>00:00:00</td>\n",
       "      <td>2009</td>\n",
       "      <td>08</td>\n",
       "      <td>24</td>\n",
       "      <td>21</td>\n",
       "      <td>45</td>\n",
       "      <td>00</td>\n",
       "    </tr>\n",
       "    <tr>\n",
       "      <th>3</th>\n",
       "      <td>25894730</td>\n",
       "      <td>22:21.0</td>\n",
       "      <td>5</td>\n",
       "      <td>2009-06-26 08:22:21 UTC</td>\n",
       "      <td>-73.976124</td>\n",
       "      <td>40.790844</td>\n",
       "      <td>-73.965316</td>\n",
       "      <td>40.803349</td>\n",
       "      <td>3</td>\n",
       "      <td>2009-06-26</td>\n",
       "      <td>08:22:21</td>\n",
       "      <td>UTC</td>\n",
       "      <td>23:59:59</td>\n",
       "      <td>00:00:00</td>\n",
       "      <td>2009</td>\n",
       "      <td>06</td>\n",
       "      <td>26</td>\n",
       "      <td>08</td>\n",
       "      <td>22</td>\n",
       "      <td>21</td>\n",
       "    </tr>\n",
       "    <tr>\n",
       "      <th>4</th>\n",
       "      <td>17610152</td>\n",
       "      <td>47:00.0</td>\n",
       "      <td>16</td>\n",
       "      <td>2014-08-28 17:47:00 UTC</td>\n",
       "      <td>-73.925023</td>\n",
       "      <td>40.744085</td>\n",
       "      <td>-73.973082</td>\n",
       "      <td>40.761247</td>\n",
       "      <td>5</td>\n",
       "      <td>2014-08-28</td>\n",
       "      <td>17:47:00</td>\n",
       "      <td>UTC</td>\n",
       "      <td>23:59:59</td>\n",
       "      <td>00:00:00</td>\n",
       "      <td>2014</td>\n",
       "      <td>08</td>\n",
       "      <td>28</td>\n",
       "      <td>17</td>\n",
       "      <td>47</td>\n",
       "      <td>00</td>\n",
       "    </tr>\n",
       "  </tbody>\n",
       "</table>\n",
       "</div>"
      ],
      "text/plain": [
       "         ID      key  fare_amount          pickup_datetime  pickup_longitude  \\\n",
       "0  24238194  52:06.0            7  2015-05-07 19:52:06 UTC        -73.999817   \n",
       "1  27835199  04:56.0            7  2009-07-17 20:04:56 UTC        -73.994355   \n",
       "2  44984355  45:00.0           12  2009-08-24 21:45:00 UTC        -74.005043   \n",
       "3  25894730  22:21.0            5  2009-06-26 08:22:21 UTC        -73.976124   \n",
       "4  17610152  47:00.0           16  2014-08-28 17:47:00 UTC        -73.925023   \n",
       "\n",
       "   pickup_latitude  dropoff_longitude  dropoff_latitude  passenger_count  \\\n",
       "0        40.738354         -73.999512         40.723217                1   \n",
       "1        40.728225         -73.994710         40.750325                1   \n",
       "2        40.740770         -73.962565         40.772647                1   \n",
       "3        40.790844         -73.965316         40.803349                3   \n",
       "4        40.744085         -73.973082         40.761247                5   \n",
       "\n",
       "  pickup_date pickup_time Time_Zone Max_Time_Range Min_Time_Range  year Month  \\\n",
       "0  2015-05-07    19:52:06       UTC       23:59:59       00:00:00  2015    05   \n",
       "1  2009-07-17    20:04:56       UTC       23:59:59       00:00:00  2009    07   \n",
       "2  2009-08-24    21:45:00       UTC       23:59:59       00:00:00  2009    08   \n",
       "3  2009-06-26    08:22:21       UTC       23:59:59       00:00:00  2009    06   \n",
       "4  2014-08-28    17:47:00       UTC       23:59:59       00:00:00  2014    08   \n",
       "\n",
       "  Day HOUR Minutes Sec  \n",
       "0  07   19      52  06  \n",
       "1  17   20      04  56  \n",
       "2  24   21      45  00  \n",
       "3  26   08      22  21  \n",
       "4  28   17      47  00  "
      ]
     },
     "execution_count": 47,
     "metadata": {},
     "output_type": "execute_result"
    }
   ],
   "source": [
    "df.head()"
   ]
  },
  {
   "cell_type": "code",
   "execution_count": 48,
   "id": "8c90d7ee-bfc1-4599-a237-99893eba4652",
   "metadata": {},
   "outputs": [],
   "source": [
    "df.drop([\"pickup_datetime\"],axis=1,inplace=True)"
   ]
  },
  {
   "cell_type": "code",
   "execution_count": 49,
   "id": "de578e7a-d251-4eff-ac93-249ae2b46b28",
   "metadata": {},
   "outputs": [],
   "source": [
    "df.drop([\"pickup_date\"],axis=1,inplace=True)"
   ]
  },
  {
   "cell_type": "code",
   "execution_count": 50,
   "id": "45aa20e8-a162-4bcf-82f9-557e128feea9",
   "metadata": {},
   "outputs": [],
   "source": [
    "df.drop([\"pickup_time\"],axis=1,inplace=True)"
   ]
  },
  {
   "cell_type": "code",
   "execution_count": 51,
   "id": "1243b18f-62c5-4454-8b25-8ea8ce46eb4d",
   "metadata": {},
   "outputs": [],
   "source": [
    "df.drop([\"Max_Time_Range\"],axis=1,inplace=True)"
   ]
  },
  {
   "cell_type": "code",
   "execution_count": 52,
   "id": "1d306f43-d0a3-47e2-80b5-3cb052805d56",
   "metadata": {},
   "outputs": [],
   "source": [
    "df.drop([\"Min_Time_Range\"],axis=1,inplace=True)"
   ]
  },
  {
   "cell_type": "code",
   "execution_count": 53,
   "id": "0cf825d5-231c-4606-9961-165f005334cb",
   "metadata": {},
   "outputs": [],
   "source": [
    "#Spilliting the keys.\n",
    "df[\"key_Hours\"]=df[\"key\"].str.split(\":\").str[0]\n",
    "df[\"key_min\"]=df[\"key\"].str.split(\":\").str[0]\n",
    "df[\"key_sec2\"]=df[\"key\"].str.split(\".\").str[1]"
   ]
  },
  {
   "cell_type": "code",
   "execution_count": 54,
   "id": "5ff5a994-d160-4d15-8975-6e553b416200",
   "metadata": {},
   "outputs": [],
   "source": [
    "df.drop([\"key\"],axis=1,inplace=True)"
   ]
  },
  {
   "cell_type": "code",
   "execution_count": 55,
   "id": "e50efcc0-09f6-4351-954d-9c3f497be368",
   "metadata": {},
   "outputs": [
    {
     "ename": "KeyError",
     "evalue": "\"['key_sec'] not found in axis\"",
     "output_type": "error",
     "traceback": [
      "\u001b[1;31m---------------------------------------------------------------------------\u001b[0m",
      "\u001b[1;31mKeyError\u001b[0m                                  Traceback (most recent call last)",
      "Cell \u001b[1;32mIn[55], line 1\u001b[0m\n\u001b[1;32m----> 1\u001b[0m \u001b[43mdf\u001b[49m\u001b[38;5;241;43m.\u001b[39;49m\u001b[43mdrop\u001b[49m\u001b[43m(\u001b[49m\u001b[43m[\u001b[49m\u001b[38;5;124;43m\"\u001b[39;49m\u001b[38;5;124;43mkey_sec\u001b[39;49m\u001b[38;5;124;43m\"\u001b[39;49m\u001b[43m]\u001b[49m\u001b[43m,\u001b[49m\u001b[43maxis\u001b[49m\u001b[38;5;241;43m=\u001b[39;49m\u001b[38;5;241;43m1\u001b[39;49m\u001b[43m,\u001b[49m\u001b[43minplace\u001b[49m\u001b[38;5;241;43m=\u001b[39;49m\u001b[38;5;28;43;01mTrue\u001b[39;49;00m\u001b[43m)\u001b[49m\n",
      "File \u001b[1;32m~\\AppData\\Roaming\\Python\\Python312\\site-packages\\pandas\\core\\frame.py:5344\u001b[0m, in \u001b[0;36mDataFrame.drop\u001b[1;34m(self, labels, axis, index, columns, level, inplace, errors)\u001b[0m\n\u001b[0;32m   5196\u001b[0m \u001b[38;5;28;01mdef\u001b[39;00m \u001b[38;5;21mdrop\u001b[39m(\n\u001b[0;32m   5197\u001b[0m     \u001b[38;5;28mself\u001b[39m,\n\u001b[0;32m   5198\u001b[0m     labels: IndexLabel \u001b[38;5;241m|\u001b[39m \u001b[38;5;28;01mNone\u001b[39;00m \u001b[38;5;241m=\u001b[39m \u001b[38;5;28;01mNone\u001b[39;00m,\n\u001b[1;32m   (...)\u001b[0m\n\u001b[0;32m   5205\u001b[0m     errors: IgnoreRaise \u001b[38;5;241m=\u001b[39m \u001b[38;5;124m\"\u001b[39m\u001b[38;5;124mraise\u001b[39m\u001b[38;5;124m\"\u001b[39m,\n\u001b[0;32m   5206\u001b[0m ) \u001b[38;5;241m-\u001b[39m\u001b[38;5;241m>\u001b[39m DataFrame \u001b[38;5;241m|\u001b[39m \u001b[38;5;28;01mNone\u001b[39;00m:\n\u001b[0;32m   5207\u001b[0m \u001b[38;5;250m    \u001b[39m\u001b[38;5;124;03m\"\"\"\u001b[39;00m\n\u001b[0;32m   5208\u001b[0m \u001b[38;5;124;03m    Drop specified labels from rows or columns.\u001b[39;00m\n\u001b[0;32m   5209\u001b[0m \n\u001b[1;32m   (...)\u001b[0m\n\u001b[0;32m   5342\u001b[0m \u001b[38;5;124;03m            weight  1.0     0.8\u001b[39;00m\n\u001b[0;32m   5343\u001b[0m \u001b[38;5;124;03m    \"\"\"\u001b[39;00m\n\u001b[1;32m-> 5344\u001b[0m     \u001b[38;5;28;01mreturn\u001b[39;00m \u001b[38;5;28;43msuper\u001b[39;49m\u001b[43m(\u001b[49m\u001b[43m)\u001b[49m\u001b[38;5;241;43m.\u001b[39;49m\u001b[43mdrop\u001b[49m\u001b[43m(\u001b[49m\n\u001b[0;32m   5345\u001b[0m \u001b[43m        \u001b[49m\u001b[43mlabels\u001b[49m\u001b[38;5;241;43m=\u001b[39;49m\u001b[43mlabels\u001b[49m\u001b[43m,\u001b[49m\n\u001b[0;32m   5346\u001b[0m \u001b[43m        \u001b[49m\u001b[43maxis\u001b[49m\u001b[38;5;241;43m=\u001b[39;49m\u001b[43maxis\u001b[49m\u001b[43m,\u001b[49m\n\u001b[0;32m   5347\u001b[0m \u001b[43m        \u001b[49m\u001b[43mindex\u001b[49m\u001b[38;5;241;43m=\u001b[39;49m\u001b[43mindex\u001b[49m\u001b[43m,\u001b[49m\n\u001b[0;32m   5348\u001b[0m \u001b[43m        \u001b[49m\u001b[43mcolumns\u001b[49m\u001b[38;5;241;43m=\u001b[39;49m\u001b[43mcolumns\u001b[49m\u001b[43m,\u001b[49m\n\u001b[0;32m   5349\u001b[0m \u001b[43m        \u001b[49m\u001b[43mlevel\u001b[49m\u001b[38;5;241;43m=\u001b[39;49m\u001b[43mlevel\u001b[49m\u001b[43m,\u001b[49m\n\u001b[0;32m   5350\u001b[0m \u001b[43m        \u001b[49m\u001b[43minplace\u001b[49m\u001b[38;5;241;43m=\u001b[39;49m\u001b[43minplace\u001b[49m\u001b[43m,\u001b[49m\n\u001b[0;32m   5351\u001b[0m \u001b[43m        \u001b[49m\u001b[43merrors\u001b[49m\u001b[38;5;241;43m=\u001b[39;49m\u001b[43merrors\u001b[49m\u001b[43m,\u001b[49m\n\u001b[0;32m   5352\u001b[0m \u001b[43m    \u001b[49m\u001b[43m)\u001b[49m\n",
      "File \u001b[1;32m~\\AppData\\Roaming\\Python\\Python312\\site-packages\\pandas\\core\\generic.py:4711\u001b[0m, in \u001b[0;36mNDFrame.drop\u001b[1;34m(self, labels, axis, index, columns, level, inplace, errors)\u001b[0m\n\u001b[0;32m   4709\u001b[0m \u001b[38;5;28;01mfor\u001b[39;00m axis, labels \u001b[38;5;129;01min\u001b[39;00m axes\u001b[38;5;241m.\u001b[39mitems():\n\u001b[0;32m   4710\u001b[0m     \u001b[38;5;28;01mif\u001b[39;00m labels \u001b[38;5;129;01mis\u001b[39;00m \u001b[38;5;129;01mnot\u001b[39;00m \u001b[38;5;28;01mNone\u001b[39;00m:\n\u001b[1;32m-> 4711\u001b[0m         obj \u001b[38;5;241m=\u001b[39m \u001b[43mobj\u001b[49m\u001b[38;5;241;43m.\u001b[39;49m\u001b[43m_drop_axis\u001b[49m\u001b[43m(\u001b[49m\u001b[43mlabels\u001b[49m\u001b[43m,\u001b[49m\u001b[43m \u001b[49m\u001b[43maxis\u001b[49m\u001b[43m,\u001b[49m\u001b[43m \u001b[49m\u001b[43mlevel\u001b[49m\u001b[38;5;241;43m=\u001b[39;49m\u001b[43mlevel\u001b[49m\u001b[43m,\u001b[49m\u001b[43m \u001b[49m\u001b[43merrors\u001b[49m\u001b[38;5;241;43m=\u001b[39;49m\u001b[43merrors\u001b[49m\u001b[43m)\u001b[49m\n\u001b[0;32m   4713\u001b[0m \u001b[38;5;28;01mif\u001b[39;00m inplace:\n\u001b[0;32m   4714\u001b[0m     \u001b[38;5;28mself\u001b[39m\u001b[38;5;241m.\u001b[39m_update_inplace(obj)\n",
      "File \u001b[1;32m~\\AppData\\Roaming\\Python\\Python312\\site-packages\\pandas\\core\\generic.py:4753\u001b[0m, in \u001b[0;36mNDFrame._drop_axis\u001b[1;34m(self, labels, axis, level, errors, only_slice)\u001b[0m\n\u001b[0;32m   4751\u001b[0m         new_axis \u001b[38;5;241m=\u001b[39m axis\u001b[38;5;241m.\u001b[39mdrop(labels, level\u001b[38;5;241m=\u001b[39mlevel, errors\u001b[38;5;241m=\u001b[39merrors)\n\u001b[0;32m   4752\u001b[0m     \u001b[38;5;28;01melse\u001b[39;00m:\n\u001b[1;32m-> 4753\u001b[0m         new_axis \u001b[38;5;241m=\u001b[39m \u001b[43maxis\u001b[49m\u001b[38;5;241;43m.\u001b[39;49m\u001b[43mdrop\u001b[49m\u001b[43m(\u001b[49m\u001b[43mlabels\u001b[49m\u001b[43m,\u001b[49m\u001b[43m \u001b[49m\u001b[43merrors\u001b[49m\u001b[38;5;241;43m=\u001b[39;49m\u001b[43merrors\u001b[49m\u001b[43m)\u001b[49m\n\u001b[0;32m   4754\u001b[0m     indexer \u001b[38;5;241m=\u001b[39m axis\u001b[38;5;241m.\u001b[39mget_indexer(new_axis)\n\u001b[0;32m   4756\u001b[0m \u001b[38;5;66;03m# Case for non-unique axis\u001b[39;00m\n\u001b[0;32m   4757\u001b[0m \u001b[38;5;28;01melse\u001b[39;00m:\n",
      "File \u001b[1;32m~\\AppData\\Roaming\\Python\\Python312\\site-packages\\pandas\\core\\indexes\\base.py:7000\u001b[0m, in \u001b[0;36mIndex.drop\u001b[1;34m(self, labels, errors)\u001b[0m\n\u001b[0;32m   6998\u001b[0m \u001b[38;5;28;01mif\u001b[39;00m mask\u001b[38;5;241m.\u001b[39many():\n\u001b[0;32m   6999\u001b[0m     \u001b[38;5;28;01mif\u001b[39;00m errors \u001b[38;5;241m!=\u001b[39m \u001b[38;5;124m\"\u001b[39m\u001b[38;5;124mignore\u001b[39m\u001b[38;5;124m\"\u001b[39m:\n\u001b[1;32m-> 7000\u001b[0m         \u001b[38;5;28;01mraise\u001b[39;00m \u001b[38;5;167;01mKeyError\u001b[39;00m(\u001b[38;5;124mf\u001b[39m\u001b[38;5;124m\"\u001b[39m\u001b[38;5;132;01m{\u001b[39;00mlabels[mask]\u001b[38;5;241m.\u001b[39mtolist()\u001b[38;5;132;01m}\u001b[39;00m\u001b[38;5;124m not found in axis\u001b[39m\u001b[38;5;124m\"\u001b[39m)\n\u001b[0;32m   7001\u001b[0m     indexer \u001b[38;5;241m=\u001b[39m indexer[\u001b[38;5;241m~\u001b[39mmask]\n\u001b[0;32m   7002\u001b[0m \u001b[38;5;28;01mreturn\u001b[39;00m \u001b[38;5;28mself\u001b[39m\u001b[38;5;241m.\u001b[39mdelete(indexer)\n",
      "\u001b[1;31mKeyError\u001b[0m: \"['key_sec'] not found in axis\""
     ]
    }
   ],
   "source": [
    "df.drop([\"key_sec\"],axis=1,inplace=True)"
   ]
  },
  {
   "cell_type": "code",
   "execution_count": 56,
   "id": "54f231b3-52a6-4e57-8cf0-eb0471d78316",
   "metadata": {},
   "outputs": [
    {
     "name": "stdout",
     "output_type": "stream",
     "text": [
      "<class 'pandas.core.frame.DataFrame'>\n",
      "RangeIndex: 200000 entries, 0 to 199999\n",
      "Data columns (total 17 columns):\n",
      " #   Column             Non-Null Count   Dtype  \n",
      "---  ------             --------------   -----  \n",
      " 0   ID                 200000 non-null  int64  \n",
      " 1   fare_amount        200000 non-null  int32  \n",
      " 2   pickup_longitude   200000 non-null  float64\n",
      " 3   pickup_latitude    200000 non-null  float64\n",
      " 4   dropoff_longitude  200000 non-null  float64\n",
      " 5   dropoff_latitude   200000 non-null  float64\n",
      " 6   passenger_count    200000 non-null  int64  \n",
      " 7   Time_Zone          200000 non-null  object \n",
      " 8   year               200000 non-null  object \n",
      " 9   Month              200000 non-null  object \n",
      " 10  Day                200000 non-null  object \n",
      " 11  HOUR               200000 non-null  object \n",
      " 12  Minutes            200000 non-null  object \n",
      " 13  Sec                200000 non-null  object \n",
      " 14  key_Hours          200000 non-null  object \n",
      " 15  key_min            200000 non-null  object \n",
      " 16  key_sec2           200000 non-null  object \n",
      "dtypes: float64(4), int32(1), int64(2), object(10)\n",
      "memory usage: 25.2+ MB\n"
     ]
    }
   ],
   "source": [
    "#Setting the right data type that belong to the columns\n",
    "df.info()"
   ]
  },
  {
   "cell_type": "code",
   "execution_count": 57,
   "id": "0b9a35f7-a2e2-4cd6-9592-98ba4bb8e356",
   "metadata": {},
   "outputs": [],
   "source": [
    "df[\"pickup_longitude\"]=df[\"pickup_longitude\"].astype(int)\n",
    "df[\"pickup_latitude\"]=df[\"pickup_latitude\"].astype(int)\n",
    "df[\"dropoff_longitude\"]=df[\"dropoff_longitude\"].astype(int)\n",
    "df[\"dropoff_latitude\"]=df[\"dropoff_latitude\"].astype(int)\n",
    "df[\"year\"]=df[\"year\"].astype(int)\n",
    "df[\"Month\"]=df[\"Month\"].astype(int)\n",
    "df[\"Day\"]=df[\"Day\"].astype(int)\n",
    "df[\"HOUR\"]=df[\"HOUR\"].astype(int)\n",
    "df[\"Minutes\"]=df[\"Minutes\"].astype(int)\n",
    "df[\"Sec\"]=df[\"Sec\"].astype(int)\n",
    "df[\"key_Hours\"]=df[\"key_Hours\"].astype(int)\n",
    "df[\"key_min\"] = df[\"key_min\"].str.replace('.', '').astype(int)\n",
    "df[\"key_sec2\"]=df[\"key_sec2\"].astype(int)"
   ]
  },
  {
   "cell_type": "markdown",
   "id": "a6f5821a-6358-47ac-b735-f0d18f993e41",
   "metadata": {},
   "source": [
    "                    NOW CONVERTING THE HUMAN DATA INTO THAT TYPE SO THAT IT CAN EASILY READ BY THE MACHINERY."
   ]
  },
  {
   "cell_type": "code",
   "execution_count": 58,
   "id": "9eb9bbbe-0074-4f0a-8d42-b67367d84c03",
   "metadata": {},
   "outputs": [],
   "source": [
    "from sklearn.preprocessing import LabelEncoder"
   ]
  },
  {
   "cell_type": "code",
   "execution_count": 59,
   "id": "a778d75a-bcca-4998-9415-526de326f1ef",
   "metadata": {},
   "outputs": [],
   "source": [
    "encoder=LabelEncoder()"
   ]
  },
  {
   "cell_type": "code",
   "execution_count": 60,
   "id": "6be130fd-c5a7-47e4-8767-686036fbaf13",
   "metadata": {},
   "outputs": [],
   "source": [
    "df[\"Time_Zone\"]=encoder.fit_transform(df[\"Time_Zone\"])"
   ]
  },
  {
   "cell_type": "code",
   "execution_count": 61,
   "id": "c7d57ba4-e079-437b-b5f2-0f030b6715e7",
   "metadata": {},
   "outputs": [],
   "source": [
    "df[\"pickup_longitude\"]=encoder.fit_transform(df[\"pickup_longitude\"])"
   ]
  },
  {
   "cell_type": "code",
   "execution_count": 62,
   "id": "0e9e09ab-daf9-4ca4-9bd0-e8bb48359b86",
   "metadata": {},
   "outputs": [],
   "source": [
    "df[\"pickup_latitude\"]=encoder.fit_transform(df[\"pickup_latitude\"])"
   ]
  },
  {
   "cell_type": "code",
   "execution_count": 63,
   "id": "1b2c687e-744f-4231-baa9-858086087faa",
   "metadata": {},
   "outputs": [],
   "source": [
    "df[\"dropoff_longitude\"]=encoder.fit_transform(df[\"dropoff_longitude\"])"
   ]
  },
  {
   "cell_type": "code",
   "execution_count": 64,
   "id": "153663d1-db9f-4456-aa4a-9b0871d0f9df",
   "metadata": {},
   "outputs": [],
   "source": [
    "df[\"dropoff_latitude\"]=encoder.fit_transform(df[\"dropoff_latitude\"])"
   ]
  },
  {
   "cell_type": "code",
   "execution_count": null,
   "id": "c3e8aa98-3e26-4385-a425-eacb40800ad1",
   "metadata": {},
   "outputs": [],
   "source": []
  },
  {
   "cell_type": "code",
   "execution_count": 65,
   "id": "b9f70f0d-e366-4d6f-b79c-ee528b6d5a05",
   "metadata": {},
   "outputs": [
    {
     "data": {
      "text/html": [
       "<div>\n",
       "<style scoped>\n",
       "    .dataframe tbody tr th:only-of-type {\n",
       "        vertical-align: middle;\n",
       "    }\n",
       "\n",
       "    .dataframe tbody tr th {\n",
       "        vertical-align: top;\n",
       "    }\n",
       "\n",
       "    .dataframe thead th {\n",
       "        text-align: right;\n",
       "    }\n",
       "</style>\n",
       "<table border=\"1\" class=\"dataframe\">\n",
       "  <thead>\n",
       "    <tr style=\"text-align: right;\">\n",
       "      <th></th>\n",
       "      <th>ID</th>\n",
       "      <th>fare_amount</th>\n",
       "      <th>pickup_longitude</th>\n",
       "      <th>pickup_latitude</th>\n",
       "      <th>dropoff_longitude</th>\n",
       "      <th>dropoff_latitude</th>\n",
       "      <th>passenger_count</th>\n",
       "      <th>Time_Zone</th>\n",
       "      <th>year</th>\n",
       "      <th>Month</th>\n",
       "      <th>Day</th>\n",
       "      <th>HOUR</th>\n",
       "      <th>Minutes</th>\n",
       "      <th>Sec</th>\n",
       "      <th>key_Hours</th>\n",
       "      <th>key_min</th>\n",
       "      <th>key_sec2</th>\n",
       "    </tr>\n",
       "  </thead>\n",
       "  <tbody>\n",
       "    <tr>\n",
       "      <th>0</th>\n",
       "      <td>24238194</td>\n",
       "      <td>7</td>\n",
       "      <td>10</td>\n",
       "      <td>5</td>\n",
       "      <td>4</td>\n",
       "      <td>9</td>\n",
       "      <td>1</td>\n",
       "      <td>0</td>\n",
       "      <td>2015</td>\n",
       "      <td>5</td>\n",
       "      <td>7</td>\n",
       "      <td>19</td>\n",
       "      <td>52</td>\n",
       "      <td>6</td>\n",
       "      <td>52</td>\n",
       "      <td>52</td>\n",
       "      <td>0</td>\n",
       "    </tr>\n",
       "  </tbody>\n",
       "</table>\n",
       "</div>"
      ],
      "text/plain": [
       "         ID  fare_amount  pickup_longitude  pickup_latitude  \\\n",
       "0  24238194            7                10                5   \n",
       "\n",
       "   dropoff_longitude  dropoff_latitude  passenger_count  Time_Zone  year  \\\n",
       "0                  4                 9                1          0  2015   \n",
       "\n",
       "   Month  Day  HOUR  Minutes  Sec  key_Hours  key_min  key_sec2  \n",
       "0      5    7    19       52    6         52       52         0  "
      ]
     },
     "execution_count": 65,
     "metadata": {},
     "output_type": "execute_result"
    }
   ],
   "source": [
    "df.head(1)"
   ]
  },
  {
   "cell_type": "code",
   "execution_count": 66,
   "id": "8257a942-eaae-4498-bc22-8eccc627f77d",
   "metadata": {},
   "outputs": [],
   "source": [
    "#Feature ENGINEERING"
   ]
  },
  {
   "cell_type": "code",
   "execution_count": 67,
   "id": "7c69fe44-133f-4967-9590-285cee57870e",
   "metadata": {},
   "outputs": [
    {
     "name": "stdout",
     "output_type": "stream",
     "text": [
      "ID                   0\n",
      "fare_amount          0\n",
      "pickup_longitude     0\n",
      "pickup_latitude      0\n",
      "dropoff_longitude    0\n",
      "dropoff_latitude     0\n",
      "passenger_count      0\n",
      "Time_Zone            0\n",
      "year                 0\n",
      "Month                0\n",
      "Day                  0\n",
      "HOUR                 0\n",
      "Minutes              0\n",
      "Sec                  0\n",
      "key_Hours            0\n",
      "key_min              0\n",
      "key_sec2             0\n",
      "dtype: int64\n"
     ]
    },
    {
     "ename": "NameError",
     "evalue": "name 'X' is not defined",
     "output_type": "error",
     "traceback": [
      "\u001b[1;31m---------------------------------------------------------------------------\u001b[0m",
      "\u001b[1;31mNameError\u001b[0m                                 Traceback (most recent call last)",
      "Cell \u001b[1;32mIn[67], line 5\u001b[0m\n\u001b[0;32m      2\u001b[0m \u001b[38;5;28mprint\u001b[39m(df\u001b[38;5;241m.\u001b[39misnull()\u001b[38;5;241m.\u001b[39msum())\n\u001b[0;32m      4\u001b[0m \u001b[38;5;66;03m# Check if there are missing values in X and y\u001b[39;00m\n\u001b[1;32m----> 5\u001b[0m \u001b[38;5;28mprint\u001b[39m(\u001b[43mX\u001b[49m\u001b[38;5;241m.\u001b[39misnull()\u001b[38;5;241m.\u001b[39msum())\n\u001b[0;32m      6\u001b[0m \u001b[38;5;28mprint\u001b[39m(y\u001b[38;5;241m.\u001b[39misnull()\u001b[38;5;241m.\u001b[39msum())\n",
      "\u001b[1;31mNameError\u001b[0m: name 'X' is not defined"
     ]
    }
   ],
   "source": [
    "# Check for missing values in the DataFrame\n",
    "print(df.isnull().sum())\n",
    "\n",
    "# Check if there are missing values in X and y\n",
    "print(X.isnull().sum())\n",
    "print(y.isnull().sum())\n"
   ]
  },
  {
   "cell_type": "code",
   "execution_count": 68,
   "id": "50f0b3a2-bfae-407c-bdb3-c05d28e63057",
   "metadata": {},
   "outputs": [
    {
     "name": "stdout",
     "output_type": "stream",
     "text": [
      "(200000, 16)\n",
      "(200000,)\n"
     ]
    }
   ],
   "source": [
    "# Drop rows with missing values in X or y\n",
    "df.dropna(subset=['fare_amount'], inplace=True)\n",
    "X = df.drop(\"fare_amount\", axis=1)\n",
    "y = df[\"fare_amount\"]\n",
    "print(X.shape)  # Should be (200000, 16) or adjusted if rows were dropped\n",
    "print(y.shape)  # Should be (200000,) or adjusted if rows were dropped\n",
    "\n"
   ]
  },
  {
   "cell_type": "code",
   "execution_count": 69,
   "id": "34474c69-88d8-40d3-ba4a-07abd293616b",
   "metadata": {},
   "outputs": [
    {
     "name": "stdout",
     "output_type": "stream",
     "text": [
      "Shape of X_train: (160000, 16)\n",
      "Shape of y_train: (160000,)\n",
      "Shape of X_test: (40000, 16)\n",
      "Shape of y_test: (40000,)\n"
     ]
    }
   ],
   "source": [
    "from sklearn.model_selection import train_test_split\n",
    "\n",
    "X_train, X_test, y_train, y_test = train_test_split(X, y, test_size=0.2, random_state=42)\n",
    "\n",
    "print(\"Shape of X_train:\", X_train.shape)\n",
    "print(\"Shape of y_train:\", y_train.shape)\n",
    "print(\"Shape of X_test:\", X_test.shape)\n",
    "print(\"Shape of y_test:\", y_test.shape)\n",
    "\n",
    "# Ensure consistent number of samples\n",
    "assert X_train.shape[0] == y_train.shape[0], \"Inconsistent number of samples!\"\n"
   ]
  },
  {
   "cell_type": "code",
   "execution_count": 70,
   "id": "651b6786-edef-4ed5-8a17-aeeaac327e15",
   "metadata": {},
   "outputs": [],
   "source": [
    "from sklearn.neighbors import  KNeighborsClassifier"
   ]
  },
  {
   "cell_type": "code",
   "execution_count": 71,
   "id": "ff523a16-2992-4a45-8492-05404bc11894",
   "metadata": {},
   "outputs": [],
   "source": [
    "kn= KNeighborsClassifier()"
   ]
  },
  {
   "cell_type": "code",
   "execution_count": 72,
   "id": "1a798e99-e8bd-4068-986a-cc1fbb2e2393",
   "metadata": {},
   "outputs": [
    {
     "data": {
      "text/html": [
       "<style>#sk-container-id-1 {color: black;}#sk-container-id-1 pre{padding: 0;}#sk-container-id-1 div.sk-toggleable {background-color: white;}#sk-container-id-1 label.sk-toggleable__label {cursor: pointer;display: block;width: 100%;margin-bottom: 0;padding: 0.3em;box-sizing: border-box;text-align: center;}#sk-container-id-1 label.sk-toggleable__label-arrow:before {content: \"▸\";float: left;margin-right: 0.25em;color: #696969;}#sk-container-id-1 label.sk-toggleable__label-arrow:hover:before {color: black;}#sk-container-id-1 div.sk-estimator:hover label.sk-toggleable__label-arrow:before {color: black;}#sk-container-id-1 div.sk-toggleable__content {max-height: 0;max-width: 0;overflow: hidden;text-align: left;background-color: #f0f8ff;}#sk-container-id-1 div.sk-toggleable__content pre {margin: 0.2em;color: black;border-radius: 0.25em;background-color: #f0f8ff;}#sk-container-id-1 input.sk-toggleable__control:checked~div.sk-toggleable__content {max-height: 200px;max-width: 100%;overflow: auto;}#sk-container-id-1 input.sk-toggleable__control:checked~label.sk-toggleable__label-arrow:before {content: \"▾\";}#sk-container-id-1 div.sk-estimator input.sk-toggleable__control:checked~label.sk-toggleable__label {background-color: #d4ebff;}#sk-container-id-1 div.sk-label input.sk-toggleable__control:checked~label.sk-toggleable__label {background-color: #d4ebff;}#sk-container-id-1 input.sk-hidden--visually {border: 0;clip: rect(1px 1px 1px 1px);clip: rect(1px, 1px, 1px, 1px);height: 1px;margin: -1px;overflow: hidden;padding: 0;position: absolute;width: 1px;}#sk-container-id-1 div.sk-estimator {font-family: monospace;background-color: #f0f8ff;border: 1px dotted black;border-radius: 0.25em;box-sizing: border-box;margin-bottom: 0.5em;}#sk-container-id-1 div.sk-estimator:hover {background-color: #d4ebff;}#sk-container-id-1 div.sk-parallel-item::after {content: \"\";width: 100%;border-bottom: 1px solid gray;flex-grow: 1;}#sk-container-id-1 div.sk-label:hover label.sk-toggleable__label {background-color: #d4ebff;}#sk-container-id-1 div.sk-serial::before {content: \"\";position: absolute;border-left: 1px solid gray;box-sizing: border-box;top: 0;bottom: 0;left: 50%;z-index: 0;}#sk-container-id-1 div.sk-serial {display: flex;flex-direction: column;align-items: center;background-color: white;padding-right: 0.2em;padding-left: 0.2em;position: relative;}#sk-container-id-1 div.sk-item {position: relative;z-index: 1;}#sk-container-id-1 div.sk-parallel {display: flex;align-items: stretch;justify-content: center;background-color: white;position: relative;}#sk-container-id-1 div.sk-item::before, #sk-container-id-1 div.sk-parallel-item::before {content: \"\";position: absolute;border-left: 1px solid gray;box-sizing: border-box;top: 0;bottom: 0;left: 50%;z-index: -1;}#sk-container-id-1 div.sk-parallel-item {display: flex;flex-direction: column;z-index: 1;position: relative;background-color: white;}#sk-container-id-1 div.sk-parallel-item:first-child::after {align-self: flex-end;width: 50%;}#sk-container-id-1 div.sk-parallel-item:last-child::after {align-self: flex-start;width: 50%;}#sk-container-id-1 div.sk-parallel-item:only-child::after {width: 0;}#sk-container-id-1 div.sk-dashed-wrapped {border: 1px dashed gray;margin: 0 0.4em 0.5em 0.4em;box-sizing: border-box;padding-bottom: 0.4em;background-color: white;}#sk-container-id-1 div.sk-label label {font-family: monospace;font-weight: bold;display: inline-block;line-height: 1.2em;}#sk-container-id-1 div.sk-label-container {text-align: center;}#sk-container-id-1 div.sk-container {/* jupyter's `normalize.less` sets `[hidden] { display: none; }` but bootstrap.min.css set `[hidden] { display: none !important; }` so we also need the `!important` here to be able to override the default hidden behavior on the sphinx rendered scikit-learn.org. See: https://github.com/scikit-learn/scikit-learn/issues/21755 */display: inline-block !important;position: relative;}#sk-container-id-1 div.sk-text-repr-fallback {display: none;}</style><div id=\"sk-container-id-1\" class=\"sk-top-container\"><div class=\"sk-text-repr-fallback\"><pre>KNeighborsClassifier()</pre><b>In a Jupyter environment, please rerun this cell to show the HTML representation or trust the notebook. <br />On GitHub, the HTML representation is unable to render, please try loading this page with nbviewer.org.</b></div><div class=\"sk-container\" hidden><div class=\"sk-item\"><div class=\"sk-estimator sk-toggleable\"><input class=\"sk-toggleable__control sk-hidden--visually\" id=\"sk-estimator-id-1\" type=\"checkbox\" checked><label for=\"sk-estimator-id-1\" class=\"sk-toggleable__label sk-toggleable__label-arrow\">KNeighborsClassifier</label><div class=\"sk-toggleable__content\"><pre>KNeighborsClassifier()</pre></div></div></div></div></div>"
      ],
      "text/plain": [
       "KNeighborsClassifier()"
      ]
     },
     "execution_count": 72,
     "metadata": {},
     "output_type": "execute_result"
    }
   ],
   "source": [
    "kn.fit(X_train, y_train)"
   ]
  },
  {
   "cell_type": "code",
   "execution_count": 73,
   "id": "5624cc37-bdb2-4f40-b459-077f5206ad3a",
   "metadata": {},
   "outputs": [],
   "source": [
    "prediction = kn.predict(X_test)\n",
    "\n"
   ]
  },
  {
   "cell_type": "code",
   "execution_count": 74,
   "id": "220b79ba-1c5e-428d-b90c-3b25b47de901",
   "metadata": {},
   "outputs": [],
   "source": [
    "from sklearn.metrics import classification_report,confusion_matrix"
   ]
  },
  {
   "cell_type": "code",
   "execution_count": 75,
   "id": "b198d76c-9670-4747-be5f-808578e4a9d0",
   "metadata": {},
   "outputs": [
    {
     "name": "stdout",
     "output_type": "stream",
     "text": [
      "              precision    recall  f1-score   support\n",
      "\n",
      "         -52       0.00      0.00      0.00         0\n",
      "         -49       0.00      0.00      0.00         0\n",
      "          -7       0.00      0.00      0.00         0\n",
      "          -6       0.00      0.00      0.00         1\n",
      "          -5       0.00      0.00      0.00         2\n",
      "          -3       0.00      0.00      0.00         0\n",
      "           0       0.00      0.00      0.00         1\n",
      "           2       0.00      0.01      0.01       250\n",
      "           3       0.03      0.08      0.04      1189\n",
      "           4       0.10      0.26      0.15      4105\n",
      "           5       0.10      0.17      0.13      3954\n",
      "           6       0.12      0.17      0.14      4938\n",
      "           7       0.09      0.08      0.09      3612\n",
      "           8       0.09      0.08      0.09      3841\n",
      "           9       0.07      0.04      0.05      2586\n",
      "          10       0.06      0.03      0.04      2542\n",
      "          11       0.04      0.01      0.02      1684\n",
      "          12       0.03      0.01      0.01      1670\n",
      "          13       0.03      0.01      0.01      1174\n",
      "          14       0.03      0.01      0.01      1111\n",
      "          15       0.06      0.01      0.02       804\n",
      "          16       0.04      0.00      0.01       805\n",
      "          17       0.03      0.00      0.01       584\n",
      "          18       0.00      0.00      0.00       561\n",
      "          19       0.08      0.01      0.01       375\n",
      "          20       0.03      0.00      0.00       385\n",
      "          21       0.00      0.00      0.00       260\n",
      "          22       0.08      0.00      0.01       236\n",
      "          23       0.00      0.00      0.00       217\n",
      "          24       0.00      0.00      0.00       209\n",
      "          25       0.00      0.00      0.00       166\n",
      "          26       0.00      0.00      0.00       173\n",
      "          27       0.00      0.00      0.00       168\n",
      "          28       0.00      0.00      0.00       164\n",
      "          29       0.00      0.00      0.00       147\n",
      "          30       0.00      0.00      0.00       138\n",
      "          31       0.00      0.00      0.00       105\n",
      "          32       0.00      0.00      0.00       141\n",
      "          33       0.00      0.00      0.00        94\n",
      "          34       0.00      0.00      0.00        92\n",
      "          35       0.00      0.00      0.00        83\n",
      "          36       0.00      0.00      0.00        76\n",
      "          37       0.00      0.00      0.00        64\n",
      "          38       0.00      0.00      0.00        64\n",
      "          39       0.00      0.00      0.00        50\n",
      "          40       0.00      0.00      0.00        51\n",
      "          41       0.00      0.00      0.00        51\n",
      "          42       0.00      0.00      0.00        50\n",
      "          43       0.00      0.00      0.00        34\n",
      "          44       0.00      0.00      0.00        23\n",
      "          45       0.00      0.00      0.00       132\n",
      "          46       0.00      0.00      0.00        20\n",
      "          47       0.00      0.00      0.00        26\n",
      "          48       0.00      0.00      0.00        12\n",
      "          49       0.00      0.00      0.00       260\n",
      "          50       0.00      0.00      0.00        29\n",
      "          51       0.00      0.00      0.00        11\n",
      "          52       0.00      0.00      0.00        75\n",
      "          53       0.00      0.00      0.00         5\n",
      "          54       0.00      0.00      0.00         8\n",
      "          55       0.00      0.00      0.00        15\n",
      "          56       0.00      0.00      0.00        44\n",
      "          57       0.00      0.00      0.00       198\n",
      "          58       0.00      0.00      0.00         3\n",
      "          59       0.00      0.00      0.00         4\n",
      "          60       0.00      0.00      0.00         6\n",
      "          61       0.00      0.00      0.00         6\n",
      "          62       0.00      0.00      0.00         8\n",
      "          63       0.00      0.00      0.00         6\n",
      "          64       0.00      0.00      0.00         1\n",
      "          65       0.00      0.00      0.00         3\n",
      "          66       0.00      0.00      0.00         4\n",
      "          67       0.00      0.00      0.00         5\n",
      "          68       0.00      0.00      0.00         2\n",
      "          69       0.00      0.00      0.00         4\n",
      "          70       0.00      0.00      0.00         1\n",
      "          71       0.00      0.00      0.00         1\n",
      "          72       0.00      0.00      0.00         3\n",
      "          73       0.00      0.00      0.00         6\n",
      "          74       0.00      0.00      0.00         4\n",
      "          75       0.00      0.00      0.00         6\n",
      "          76       0.00      0.00      0.00         5\n",
      "          77       0.00      0.00      0.00         1\n",
      "          78       0.00      0.00      0.00         2\n",
      "          79       0.00      0.00      0.00         3\n",
      "          80       0.00      0.00      0.00         4\n",
      "          81       0.00      0.00      0.00         1\n",
      "          83       0.00      0.00      0.00         2\n",
      "          84       0.00      0.00      0.00         1\n",
      "          85       0.00      0.00      0.00         3\n",
      "          86       0.00      0.00      0.00         1\n",
      "          87       0.00      0.00      0.00         1\n",
      "          88       0.00      0.00      0.00         2\n",
      "          89       0.00      0.00      0.00         3\n",
      "          90       0.00      0.00      0.00         2\n",
      "          91       0.00      0.00      0.00         2\n",
      "          92       0.00      0.00      0.00         1\n",
      "          93       0.00      0.00      0.00         2\n",
      "          94       0.00      0.00      0.00         1\n",
      "          95       0.00      0.00      0.00         1\n",
      "          97       0.00      0.00      0.00         1\n",
      "         100       0.00      0.00      0.00         1\n",
      "         103       0.00      0.00      0.00         2\n",
      "         105       0.00      0.00      0.00         1\n",
      "         110       0.00      0.00      0.00         1\n",
      "         111       0.00      0.00      0.00         1\n",
      "         116       0.00      0.00      0.00         1\n",
      "         119       0.00      0.00      0.00         1\n",
      "         120       0.00      0.00      0.00         2\n",
      "         127       0.00      0.00      0.00         1\n",
      "         129       0.00      0.00      0.00         1\n",
      "         130       0.00      0.00      0.00         2\n",
      "         131       0.00      0.00      0.00         1\n",
      "         142       0.00      0.00      0.00         1\n",
      "         148       0.00      0.00      0.00         1\n",
      "         152       0.00      0.00      0.00         1\n",
      "         171       0.00      0.00      0.00         1\n",
      "         200       0.00      0.00      0.00         1\n",
      "         250       0.00      0.00      0.00         1\n",
      "         275       0.00      0.00      0.00         1\n",
      "         499       0.00      0.00      0.00         1\n",
      "\n",
      "    accuracy                           0.09     40000\n",
      "   macro avg       0.01      0.01      0.01     40000\n",
      "weighted avg       0.07      0.09      0.07     40000\n",
      "\n"
     ]
    },
    {
     "name": "stderr",
     "output_type": "stream",
     "text": [
      "C:\\Users\\anshm\\AppData\\Roaming\\Python\\Python312\\site-packages\\sklearn\\metrics\\_classification.py:1471: UndefinedMetricWarning: Precision and F-score are ill-defined and being set to 0.0 in labels with no predicted samples. Use `zero_division` parameter to control this behavior.\n",
      "  _warn_prf(average, modifier, msg_start, len(result))\n",
      "C:\\Users\\anshm\\AppData\\Roaming\\Python\\Python312\\site-packages\\sklearn\\metrics\\_classification.py:1471: UndefinedMetricWarning: Recall and F-score are ill-defined and being set to 0.0 in labels with no true samples. Use `zero_division` parameter to control this behavior.\n",
      "  _warn_prf(average, modifier, msg_start, len(result))\n",
      "C:\\Users\\anshm\\AppData\\Roaming\\Python\\Python312\\site-packages\\sklearn\\metrics\\_classification.py:1471: UndefinedMetricWarning: Precision and F-score are ill-defined and being set to 0.0 in labels with no predicted samples. Use `zero_division` parameter to control this behavior.\n",
      "  _warn_prf(average, modifier, msg_start, len(result))\n",
      "C:\\Users\\anshm\\AppData\\Roaming\\Python\\Python312\\site-packages\\sklearn\\metrics\\_classification.py:1471: UndefinedMetricWarning: Recall and F-score are ill-defined and being set to 0.0 in labels with no true samples. Use `zero_division` parameter to control this behavior.\n",
      "  _warn_prf(average, modifier, msg_start, len(result))\n",
      "C:\\Users\\anshm\\AppData\\Roaming\\Python\\Python312\\site-packages\\sklearn\\metrics\\_classification.py:1471: UndefinedMetricWarning: Precision and F-score are ill-defined and being set to 0.0 in labels with no predicted samples. Use `zero_division` parameter to control this behavior.\n",
      "  _warn_prf(average, modifier, msg_start, len(result))\n",
      "C:\\Users\\anshm\\AppData\\Roaming\\Python\\Python312\\site-packages\\sklearn\\metrics\\_classification.py:1471: UndefinedMetricWarning: Recall and F-score are ill-defined and being set to 0.0 in labels with no true samples. Use `zero_division` parameter to control this behavior.\n",
      "  _warn_prf(average, modifier, msg_start, len(result))\n"
     ]
    }
   ],
   "source": [
    "print(classification_report(y_test,prediction))"
   ]
  },
  {
   "cell_type": "code",
   "execution_count": 76,
   "id": "f51dfc04-93ff-4d82-adaf-7ecb8baf31ef",
   "metadata": {},
   "outputs": [
    {
     "name": "stdout",
     "output_type": "stream",
     "text": [
      "[[0 0 0 ... 0 0 0]\n",
      " [0 0 0 ... 0 0 0]\n",
      " [0 0 0 ... 0 0 0]\n",
      " ...\n",
      " [0 0 0 ... 0 0 0]\n",
      " [0 0 0 ... 0 0 0]\n",
      " [0 0 0 ... 0 0 0]]\n"
     ]
    }
   ],
   "source": [
    "print(confusion_matrix(y_test,prediction))"
   ]
  },
  {
   "cell_type": "code",
   "execution_count": 77,
   "id": "e3cc7beb-4587-4e3e-a094-9a4aa06bf2ca",
   "metadata": {},
   "outputs": [],
   "source": [
    "from sklearn.metrics import mean_squared_error, r2_score\n",
    "mse = mean_squared_error(y_test, prediction)\n",
    "r2 = r2_score(y_test, prediction)"
   ]
  },
  {
   "cell_type": "code",
   "execution_count": 78,
   "id": "0e5a7663-9000-4cb1-80ed-43026175db3d",
   "metadata": {},
   "outputs": [
    {
     "name": "stdout",
     "output_type": "stream",
     "text": [
      "141.586075\n",
      "-0.3289519521655013\n"
     ]
    }
   ],
   "source": [
    "print(mse)\n",
    "print(r2)"
   ]
  },
  {
   "cell_type": "code",
   "execution_count": 79,
   "id": "21339851-9f35-4829-aba0-b6998bb8f010",
   "metadata": {},
   "outputs": [
    {
     "data": {
      "text/html": [
       "<div>\n",
       "<style scoped>\n",
       "    .dataframe tbody tr th:only-of-type {\n",
       "        vertical-align: middle;\n",
       "    }\n",
       "\n",
       "    .dataframe tbody tr th {\n",
       "        vertical-align: top;\n",
       "    }\n",
       "\n",
       "    .dataframe thead th {\n",
       "        text-align: right;\n",
       "    }\n",
       "</style>\n",
       "<table border=\"1\" class=\"dataframe\">\n",
       "  <thead>\n",
       "    <tr style=\"text-align: right;\">\n",
       "      <th></th>\n",
       "      <th>ID</th>\n",
       "      <th>fare_amount</th>\n",
       "      <th>pickup_longitude</th>\n",
       "      <th>pickup_latitude</th>\n",
       "      <th>dropoff_longitude</th>\n",
       "      <th>dropoff_latitude</th>\n",
       "      <th>passenger_count</th>\n",
       "      <th>Time_Zone</th>\n",
       "      <th>year</th>\n",
       "      <th>Month</th>\n",
       "      <th>Day</th>\n",
       "      <th>HOUR</th>\n",
       "      <th>Minutes</th>\n",
       "      <th>Sec</th>\n",
       "      <th>key_Hours</th>\n",
       "      <th>key_min</th>\n",
       "      <th>key_sec2</th>\n",
       "    </tr>\n",
       "  </thead>\n",
       "  <tbody>\n",
       "    <tr>\n",
       "      <th>0</th>\n",
       "      <td>24238194</td>\n",
       "      <td>7</td>\n",
       "      <td>10</td>\n",
       "      <td>5</td>\n",
       "      <td>4</td>\n",
       "      <td>9</td>\n",
       "      <td>1</td>\n",
       "      <td>0</td>\n",
       "      <td>2015</td>\n",
       "      <td>5</td>\n",
       "      <td>7</td>\n",
       "      <td>19</td>\n",
       "      <td>52</td>\n",
       "      <td>6</td>\n",
       "      <td>52</td>\n",
       "      <td>52</td>\n",
       "      <td>0</td>\n",
       "    </tr>\n",
       "    <tr>\n",
       "      <th>1</th>\n",
       "      <td>27835199</td>\n",
       "      <td>7</td>\n",
       "      <td>10</td>\n",
       "      <td>5</td>\n",
       "      <td>4</td>\n",
       "      <td>9</td>\n",
       "      <td>1</td>\n",
       "      <td>0</td>\n",
       "      <td>2009</td>\n",
       "      <td>7</td>\n",
       "      <td>17</td>\n",
       "      <td>20</td>\n",
       "      <td>4</td>\n",
       "      <td>56</td>\n",
       "      <td>4</td>\n",
       "      <td>4</td>\n",
       "      <td>0</td>\n",
       "    </tr>\n",
       "    <tr>\n",
       "      <th>2</th>\n",
       "      <td>44984355</td>\n",
       "      <td>12</td>\n",
       "      <td>9</td>\n",
       "      <td>5</td>\n",
       "      <td>4</td>\n",
       "      <td>9</td>\n",
       "      <td>1</td>\n",
       "      <td>0</td>\n",
       "      <td>2009</td>\n",
       "      <td>8</td>\n",
       "      <td>24</td>\n",
       "      <td>21</td>\n",
       "      <td>45</td>\n",
       "      <td>0</td>\n",
       "      <td>45</td>\n",
       "      <td>45</td>\n",
       "      <td>0</td>\n",
       "    </tr>\n",
       "    <tr>\n",
       "      <th>3</th>\n",
       "      <td>25894730</td>\n",
       "      <td>5</td>\n",
       "      <td>10</td>\n",
       "      <td>5</td>\n",
       "      <td>4</td>\n",
       "      <td>9</td>\n",
       "      <td>3</td>\n",
       "      <td>0</td>\n",
       "      <td>2009</td>\n",
       "      <td>6</td>\n",
       "      <td>26</td>\n",
       "      <td>8</td>\n",
       "      <td>22</td>\n",
       "      <td>21</td>\n",
       "      <td>22</td>\n",
       "      <td>22</td>\n",
       "      <td>0</td>\n",
       "    </tr>\n",
       "    <tr>\n",
       "      <th>4</th>\n",
       "      <td>17610152</td>\n",
       "      <td>16</td>\n",
       "      <td>10</td>\n",
       "      <td>5</td>\n",
       "      <td>4</td>\n",
       "      <td>9</td>\n",
       "      <td>5</td>\n",
       "      <td>0</td>\n",
       "      <td>2014</td>\n",
       "      <td>8</td>\n",
       "      <td>28</td>\n",
       "      <td>17</td>\n",
       "      <td>47</td>\n",
       "      <td>0</td>\n",
       "      <td>47</td>\n",
       "      <td>47</td>\n",
       "      <td>0</td>\n",
       "    </tr>\n",
       "  </tbody>\n",
       "</table>\n",
       "</div>"
      ],
      "text/plain": [
       "         ID  fare_amount  pickup_longitude  pickup_latitude  \\\n",
       "0  24238194            7                10                5   \n",
       "1  27835199            7                10                5   \n",
       "2  44984355           12                 9                5   \n",
       "3  25894730            5                10                5   \n",
       "4  17610152           16                10                5   \n",
       "\n",
       "   dropoff_longitude  dropoff_latitude  passenger_count  Time_Zone  year  \\\n",
       "0                  4                 9                1          0  2015   \n",
       "1                  4                 9                1          0  2009   \n",
       "2                  4                 9                1          0  2009   \n",
       "3                  4                 9                3          0  2009   \n",
       "4                  4                 9                5          0  2014   \n",
       "\n",
       "   Month  Day  HOUR  Minutes  Sec  key_Hours  key_min  key_sec2  \n",
       "0      5    7    19       52    6         52       52         0  \n",
       "1      7   17    20        4   56          4        4         0  \n",
       "2      8   24    21       45    0         45       45         0  \n",
       "3      6   26     8       22   21         22       22         0  \n",
       "4      8   28    17       47    0         47       47         0  "
      ]
     },
     "execution_count": 79,
     "metadata": {},
     "output_type": "execute_result"
    }
   ],
   "source": [
    "df.head()"
   ]
  },
  {
   "cell_type": "code",
   "execution_count": 80,
   "id": "398707f1-76eb-4a42-8919-08839f258792",
   "metadata": {},
   "outputs": [],
   "source": [
    "from sklearn.metrics import accuracy_score"
   ]
  },
  {
   "cell_type": "code",
   "execution_count": 81,
   "id": "7b4d9cef-0982-4d58-a3c0-32ef4aa3d8fd",
   "metadata": {},
   "outputs": [],
   "source": [
    "accuracy = accuracy_score(y_test, prediction)"
   ]
  },
  {
   "cell_type": "code",
   "execution_count": 82,
   "id": "83474829-1ee1-4606-93b9-f3a99ca3c23f",
   "metadata": {},
   "outputs": [
    {
     "name": "stdout",
     "output_type": "stream",
     "text": [
      "0.089025\n"
     ]
    }
   ],
   "source": [
    "print(accuracy)"
   ]
  },
  {
   "cell_type": "code",
   "execution_count": null,
   "id": "0722ab8e-53a7-4f1b-ac95-fd4802090668",
   "metadata": {},
   "outputs": [],
   "source": []
  },
  {
   "cell_type": "code",
   "execution_count": null,
   "id": "8ce14cc5-b8cf-40bb-a3ff-4fed5a88a23b",
   "metadata": {},
   "outputs": [],
   "source": []
  },
  {
   "cell_type": "code",
   "execution_count": null,
   "id": "4678d1ee-a181-4867-b654-f79880a7c0da",
   "metadata": {},
   "outputs": [],
   "source": []
  },
  {
   "cell_type": "code",
   "execution_count": null,
   "id": "4c1f8e00-4799-430c-b506-0f54583925f3",
   "metadata": {},
   "outputs": [],
   "source": []
  },
  {
   "cell_type": "code",
   "execution_count": null,
   "id": "df6cd1d8-9e83-4de1-8569-3cdbc3678d61",
   "metadata": {},
   "outputs": [],
   "source": []
  },
  {
   "cell_type": "code",
   "execution_count": null,
   "id": "0825ab6d-8c3a-49d1-907c-6ebbc3936703",
   "metadata": {},
   "outputs": [],
   "source": []
  },
  {
   "cell_type": "code",
   "execution_count": null,
   "id": "403ec1f1-4dc5-4239-aef7-a71c73cc77cb",
   "metadata": {},
   "outputs": [],
   "source": []
  }
 ],
 "metadata": {
  "kernelspec": {
   "display_name": "Python 3 (ipykernel)",
   "language": "python",
   "name": "python3"
  },
  "language_info": {
   "codemirror_mode": {
    "name": "ipython",
    "version": 3
   },
   "file_extension": ".py",
   "mimetype": "text/x-python",
   "name": "python",
   "nbconvert_exporter": "python",
   "pygments_lexer": "ipython3",
   "version": "3.12.1"
  }
 },
 "nbformat": 4,
 "nbformat_minor": 5
}
